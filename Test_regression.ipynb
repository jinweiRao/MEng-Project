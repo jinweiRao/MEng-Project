{
 "cells": [
  {
   "cell_type": "markdown",
   "metadata": {
    "colab_type": "text",
    "id": "view-in-github"
   },
   "source": [
    "<a href=\"https://colab.research.google.com/github/jinweiRao/MEng-Project/blob/master/Test_regression.ipynb\" target=\"_parent\"><img src=\"https://colab.research.google.com/assets/colab-badge.svg\" alt=\"Open In Colab\"/></a>"
   ]
  },
  {
   "cell_type": "code",
   "execution_count": 2,
   "metadata": {
    "colab": {
     "base_uri": "https://localhost:8080/",
     "height": 34
    },
    "colab_type": "code",
    "id": "I6Q_bTr0z7RO",
    "outputId": "20da54c8-c36a-4940-acaa-8cf376cef89a"
   },
   "outputs": [],
   "source": [
    "import tensorflow\n",
    "from tensorflow import keras\n",
    "from keras.optimizers import SGD, Adam,RMSprop\n",
    "from keras.layers import Dense,Activation,Input\n",
    "import numpy as np\n",
    "import pandas as pd\n",
    "from keras import Sequential\n",
    "from keras.wrappers.scikit_learn import KerasRegressor\n",
    "from sklearn.model_selection import cross_val_score\n",
    "from sklearn.model_selection import KFold\n",
    "from sklearn.model_selection import cross_val_predict\n",
    "import matplotlib.pyplot as plt\n",
    "from keras import optimizers, regularizers\n",
    "import seaborn as sns\n",
    "from keras import callbacks\n",
    "from scipy.stats.stats import pearsonr\n",
    "import random\n",
    "import matplotlib.pyplot\n",
    "from sklearn.cluster import KMeans\n",
    "from sklearn import tree\n",
    "from tqdm import tqdm"
   ]
  },
  {
   "cell_type": "markdown",
   "metadata": {
    "colab_type": "text",
    "id": "KQM_larKz7RR"
   },
   "source": [
    "## Build baseline_model"
   ]
  },
  {
   "cell_type": "code",
   "execution_count": 3,
   "metadata": {
    "colab": {},
    "colab_type": "code",
    "id": "itNzWXQ0z7RS"
   },
   "outputs": [
    {
     "data": {
      "text/html": [
       "<div>\n",
       "<style scoped>\n",
       "    .dataframe tbody tr th:only-of-type {\n",
       "        vertical-align: middle;\n",
       "    }\n",
       "\n",
       "    .dataframe tbody tr th {\n",
       "        vertical-align: top;\n",
       "    }\n",
       "\n",
       "    .dataframe thead th {\n",
       "        text-align: right;\n",
       "    }\n",
       "</style>\n",
       "<table border=\"1\" class=\"dataframe\">\n",
       "  <thead>\n",
       "    <tr style=\"text-align: right;\">\n",
       "      <th></th>\n",
       "      <th>lp</th>\n",
       "      <th>Temp</th>\n",
       "      <th>CaO</th>\n",
       "      <th>MgO</th>\n",
       "      <th>SiO2</th>\n",
       "      <th>Fe_total</th>\n",
       "      <th>MnO</th>\n",
       "      <th>Al2O3</th>\n",
       "      <th>TiO2</th>\n",
       "      <th>V2O5</th>\n",
       "    </tr>\n",
       "  </thead>\n",
       "  <tbody>\n",
       "    <tr>\n",
       "      <th>0</th>\n",
       "      <td>4.736198</td>\n",
       "      <td>1649</td>\n",
       "      <td>40.0</td>\n",
       "      <td>8.63</td>\n",
       "      <td>7.8</td>\n",
       "      <td>27.5</td>\n",
       "      <td>3.38</td>\n",
       "      <td>0.91</td>\n",
       "      <td>0.45</td>\n",
       "      <td>1.473</td>\n",
       "    </tr>\n",
       "    <tr>\n",
       "      <th>1</th>\n",
       "      <td>4.436094</td>\n",
       "      <td>1654</td>\n",
       "      <td>39.6</td>\n",
       "      <td>9.99</td>\n",
       "      <td>9.2</td>\n",
       "      <td>23.0</td>\n",
       "      <td>4.14</td>\n",
       "      <td>2.60</td>\n",
       "      <td>0.68</td>\n",
       "      <td>1.945</td>\n",
       "    </tr>\n",
       "    <tr>\n",
       "      <th>2</th>\n",
       "      <td>4.499810</td>\n",
       "      <td>1664</td>\n",
       "      <td>44.8</td>\n",
       "      <td>8.80</td>\n",
       "      <td>11.0</td>\n",
       "      <td>20.2</td>\n",
       "      <td>3.45</td>\n",
       "      <td>1.58</td>\n",
       "      <td>0.76</td>\n",
       "      <td>2.070</td>\n",
       "    </tr>\n",
       "    <tr>\n",
       "      <th>3</th>\n",
       "      <td>4.140865</td>\n",
       "      <td>1680</td>\n",
       "      <td>42.4</td>\n",
       "      <td>8.10</td>\n",
       "      <td>11.5</td>\n",
       "      <td>21.1</td>\n",
       "      <td>3.76</td>\n",
       "      <td>2.47</td>\n",
       "      <td>0.88</td>\n",
       "      <td>2.161</td>\n",
       "    </tr>\n",
       "    <tr>\n",
       "      <th>4</th>\n",
       "      <td>4.081441</td>\n",
       "      <td>1671</td>\n",
       "      <td>48.8</td>\n",
       "      <td>11.73</td>\n",
       "      <td>11.8</td>\n",
       "      <td>13.3</td>\n",
       "      <td>3.26</td>\n",
       "      <td>1.48</td>\n",
       "      <td>0.78</td>\n",
       "      <td>1.976</td>\n",
       "    </tr>\n",
       "  </tbody>\n",
       "</table>\n",
       "</div>"
      ],
      "text/plain": [
       "         lp  Temp   CaO    MgO  SiO2  Fe_total   MnO  Al2O3  TiO2   V2O5\n",
       "0  4.736198  1649  40.0   8.63   7.8      27.5  3.38   0.91  0.45  1.473\n",
       "1  4.436094  1654  39.6   9.99   9.2      23.0  4.14   2.60  0.68  1.945\n",
       "2  4.499810  1664  44.8   8.80  11.0      20.2  3.45   1.58  0.76  2.070\n",
       "3  4.140865  1680  42.4   8.10  11.5      21.1  3.76   2.47  0.88  2.161\n",
       "4  4.081441  1671  48.8  11.73  11.8      13.3  3.26   1.48  0.78  1.976"
      ]
     },
     "execution_count": 3,
     "metadata": {},
     "output_type": "execute_result"
    }
   ],
   "source": [
    "data=pd.read_csv('plant_A.csv')\n",
    "data.head()"
   ]
  },
  {
   "cell_type": "code",
   "execution_count": 4,
   "metadata": {
    "colab": {},
    "colab_type": "code",
    "id": "3MqyGxMD7Ash"
   },
   "outputs": [],
   "source": [
    "def stdarize_data(data):\n",
    "    mean = data.describe().loc['mean'].values\n",
    "    std = data.describe().loc['std'].values\n",
    "    stddata = (data - mean)/std\n",
    "    return stddata"
   ]
  },
  {
   "cell_type": "code",
   "execution_count": 5,
   "metadata": {
    "colab": {},
    "colab_type": "code",
    "id": "s50iT6Af-IXB"
   },
   "outputs": [],
   "source": [
    "stddata = stdarize_data(data)"
   ]
  },
  {
   "cell_type": "code",
   "execution_count": 7,
   "metadata": {
    "colab": {
     "base_uri": "https://localhost:8080/",
     "height": 232
    },
    "colab_type": "code",
    "id": "fz687WR0CQpe",
    "outputId": "01dc35a8-c3b6-4c74-bf4d-48034aaee2ff"
   },
   "outputs": [
    {
     "name": "stdout",
     "output_type": "stream",
     "text": [
      "|--- feature_0 <= -0.17\n",
      "|   |--- value: [-0.48]\n",
      "|--- feature_0 >  -0.17\n",
      "|   |--- value: [-0.78]\n",
      "\n"
     ]
    }
   ],
   "source": [
    "X_tree = S4.loc[:,'MgO'].values.reshape(-1,1)\n",
    "y_tree = S4.loc[:,'lp'].values.reshape(-1,1)\n",
    "clf = tree.DecisionTreeRegressor(max_depth = 1, criterion = 'mse')\n",
    "clf = clf.fit(X_tree,y_tree)\n",
    "tree_result = tree.export_text(clf)\n",
    "print(tree_result)"
   ]
  },
  {
   "cell_type": "code",
   "execution_count": 6,
   "metadata": {
    "colab": {},
    "colab_type": "code",
    "id": "YaaIwlTnVSlc"
   },
   "outputs": [],
   "source": [
    "T1 = stddata.loc[stddata['Temp']<=0.24].copy()\n",
    "T2 = stddata.loc[stddata['Temp']>0.24].copy()\n",
    "S1 = T1.loc[T1['SiO2'] <= 0.47].reset_index().drop(['index'],axis = 1)\n",
    "S2 = T1.loc[T1['SiO2'] > 0.47].reset_index().drop(['index'],axis = 1)\n",
    "S3 = T2.loc[T2['SiO2'] <= 0.33].reset_index().drop(['index'],axis = 1)\n",
    "S4 = T2.loc[T2['SiO2'] > 0.33].reset_index().drop(['index'],axis = 1)\n",
    "M1 = S1.loc[S1['MgO'] <= 0.72].reset_index().drop(['index'],axis = 1)\n",
    "M2 = S1.loc[S1['MgO'] > 0.72].reset_index().drop(['index'],axis = 1)\n",
    "M3 = S2.loc[S2['MgO'] <= 0.81].reset_index().drop(['index'],axis = 1)\n",
    "M4 = S2.loc[S2['MgO'] > 0.81].reset_index().drop(['index'],axis = 1)\n",
    "M5 = S3.loc[S3['MgO'] <= 0.36].reset_index().drop(['index'],axis = 1)\n",
    "M6 = S3.loc[S3['MgO'] > 0.36].reset_index().drop(['index'],axis = 1)\n",
    "M7 = S4.loc[S4['MgO'] <= -0.17].reset_index().drop(['index'],axis = 1)\n",
    "M8 = S4.loc[S4['MgO'] > -0.17].reset_index().drop(['index'],axis = 1)"
   ]
  },
  {
   "cell_type": "code",
   "execution_count": 98,
   "metadata": {
    "colab": {},
    "colab_type": "code",
    "id": "si4k4-9nMsKc"
   },
   "outputs": [],
   "source": [
    "test_sample = stddata.sample(n = 2000, random_state = 9)\n",
    "X_train, X_test = test_sample.loc[:,'Temp':'V2O5'][:1600],test_sample.loc[:,'Temp':'V2O5'][1601:]\n",
    "y_train, y_test = test_sample.loc[:,'lp'][:1600],test_sample.loc[:,'lp'][1601:]"
   ]
  },
  {
   "cell_type": "code",
   "execution_count": 157,
   "metadata": {
    "colab": {
     "base_uri": "https://localhost:8080/",
     "height": 131
    },
    "colab_type": "code",
    "id": "7EXFr_ekLeD5",
    "outputId": "85982251-8923-4f69-b06f-0fde6f49f699"
   },
   "outputs": [],
   "source": [
    "def neuroneTuning(nums):\n",
    "    rmse_list = []\n",
    "    r_list = []\n",
    "    for i in tqdm(range(100)):\n",
    "        model = baseline_model('relu','RMSprop',nums)\n",
    "        model.fit(X_train,y_train,epochs = 150, batch_size = 20, validation_data = (X_test, y_test), verbose = 0)\n",
    "        pre = model.predict(X_test).reshape(-1,1)\n",
    "        truth = y_test.values.reshape(-1,1)\n",
    "        rmse = (np.sqrt(sum((pre - truth)**2)/len(pre)))[0]\n",
    "        r = pearsonr(pre,truth)[0][0]\n",
    "        rmse_list.append(rmse)\n",
    "        r_list.append(r)\n",
    "    return rmse.mean(),r.mean()"
   ]
  },
  {
   "cell_type": "code",
   "execution_count": 158,
   "metadata": {},
   "outputs": [],
   "source": [
    "def selectNeurone():\n",
    "    result = {}\n",
    "    for nums in tqdm(np.arange(5,25,5)):\n",
    "        rmse, r = neuroneTuning(nums)\n",
    "        result[nums] = [rmse,r]\n",
    "    return result"
   ]
  },
  {
   "cell_type": "code",
   "execution_count": 154,
   "metadata": {},
   "outputs": [
    {
     "name": "stderr",
     "output_type": "stream",
     "text": [
      "  0%|          | 0/5 [00:00<?, ?it/s]\n",
      "  0%|          | 0/1 [00:00<?, ?it/s]\u001b[A\n",
      " 20%|██        | 1/5 [00:15<01:01, 15.37s/it]\u001b[A\n",
      "  0%|          | 0/1 [00:00<?, ?it/s]\u001b[A\n",
      " 40%|████      | 2/5 [00:30<00:46, 15.35s/it]\u001b[A\n",
      "  0%|          | 0/1 [00:00<?, ?it/s]\u001b[A\n",
      " 60%|██████    | 3/5 [00:46<00:30, 15.37s/it]\u001b[A\n",
      "  0%|          | 0/1 [00:00<?, ?it/s]\u001b[A\n",
      " 80%|████████  | 4/5 [01:01<00:15, 15.50s/it]\u001b[A\n",
      "  0%|          | 0/1 [00:00<?, ?it/s]\u001b[A\n",
      "100%|██████████| 5/5 [01:18<00:00, 15.73s/it]\u001b[A\n"
     ]
    },
    {
     "data": {
      "text/plain": [
       "{18: [0.9186339983814614, 0.48321318652699563],\n",
       " 19: [0.9060862273113689, 0.49993395490673603],\n",
       " 20: [0.9080510445759719, 0.4932723600109103],\n",
       " 21: [0.9155542898233501, 0.490748517185139],\n",
       " 22: [0.9180249737523983, 0.4843176193973617]}"
      ]
     },
     "execution_count": 154,
     "metadata": {},
     "output_type": "execute_result"
    }
   ],
   "source": [
    "selectNeurone()"
   ]
  },
  {
   "cell_type": "code",
   "execution_count": 118,
   "metadata": {},
   "outputs": [
    {
     "data": {
      "text/plain": [
       "(-2, 1.5)"
      ]
     },
     "execution_count": 118,
     "metadata": {},
     "output_type": "execute_result"
    },
    {
     "data": {
      "image/png": "[encoded data removed]",
      "text/plain": [
       "<Figure size 432x288 with 1 Axes>"
      ]
     },
     "metadata": {
      "needs_background": "light"
     },
     "output_type": "display_data"
    }
   ],
   "source": [
    "plt.scatter(x = pre, y = truth)\n",
    "plt.ylim(-2,1.5)\n",
    "plt.xlim(-2,1.5)"
   ]
  },
  {
   "cell_type": "code",
   "execution_count": 138,
   "metadata": {},
   "outputs": [
    {
     "data": {
      "text/plain": [
       "array([0.89914661])"
      ]
     },
     "execution_count": 138,
     "metadata": {},
     "output_type": "execute_result"
    }
   ],
   "source": [
    "np.sqrt(sum((pre - truth)**2)/len(pre))"
   ]
  },
  {
   "cell_type": "code",
   "execution_count": 139,
   "metadata": {},
   "outputs": [
    {
     "data": {
      "text/plain": [
       "(array([0.50439819]), array([3.86152204e-27]))"
      ]
     },
     "execution_count": 139,
     "metadata": {},
     "output_type": "execute_result"
    }
   ],
   "source": [
    "pearsonr(pre,truth)"
   ]
  },
  {
   "cell_type": "code",
   "execution_count": 0,
   "metadata": {
    "colab": {},
    "colab_type": "code",
    "id": "yEEB0zl3z7SP"
   },
   "outputs": [],
   "source": [
    "X = data1.drop(['lp','Basicity'],axis=1).values\n",
    "y = data1.lp.values\n",
    "#X_train,X_test=X[:8000],X[8001:11000],X[11001:]\n",
    "#y_train,y_test=y[:8000],y[8001:11000],y[11001:]"
   ]
  },
  {
   "cell_type": "code",
   "execution_count": 0,
   "metadata": {
    "colab": {},
    "colab_type": "code",
    "id": "cEVKjoI53KJp"
   },
   "outputs": [],
   "source": [
    "act_list = ['sigmoid','tanh','softsign']\n",
    "opt_list = ['adam','RMSprop','Adadelta','SGD','Nadam']"
   ]
  },
  {
   "cell_type": "code",
   "execution_count": 10,
   "metadata": {
    "colab": {},
    "colab_type": "code",
    "id": "mkdzkz9bz7SY"
   },
   "outputs": [],
   "source": [
    "def baseline_model(act,opt,nums):\n",
    "    model = Sequential()\n",
    "    model.add(Dense(nums, input_dim = 9, activation = act))\n",
    "    model.add(Dense(1, activation = 'linear'))\n",
    "    model.compile(loss='mse', optimizer = opt, metrics=['mse']) \n",
    "    return model"
   ]
  },
  {
   "cell_type": "code",
   "execution_count": 0,
   "metadata": {
    "colab": {},
    "colab_type": "code",
    "id": "_-Q_NDlAA7bt"
   },
   "outputs": [],
   "source": [
    "def generate_model():\n",
    "    model_list = []\n",
    "    for act in act_list:\n",
    "        for opt in opt_list:\n",
    "            model_list.append(baseline_model(act,opt))\n",
    "    return model_list"
   ]
  },
  {
   "cell_type": "code",
   "execution_count": 0,
   "metadata": {
    "colab": {},
    "colab_type": "code",
    "id": "CYDtO_WeBb6Q"
   },
   "outputs": [],
   "source": [
    "modelList = generate_model()"
   ]
  },
  {
   "cell_type": "code",
   "execution_count": 0,
   "metadata": {
    "colab": {},
    "colab_type": "code",
    "id": "XmALal98M-9R"
   },
   "outputs": [],
   "source": [
    "def cv(df,model):\n",
    "    kf = KFold(n_splits = 5, random_state = 10, shuffle = False)\n",
    "    splits = kf.split(df)\n",
    "    comparision_list = []\n",
    "    for train_index,test_index in tqdm(splits):\n",
    "        X_train = df.loc[train_index,'Temp':'V2O5'].values\n",
    "        X_test = df.loc[test_index,'Temp':'V2O5'].values\n",
    "        y_train = df.loc[train_index,'lp'].values\n",
    "        y_test = df.loc[test_index,'lp'].values\n",
    "        model.fit(X_train, y_train, epochs = 150, batch_size = 20, validation_data = (X_test,y_test),verbose = 0)\n",
    "        prediction = model.predict(X_test).reshape(len(X_test),)\n",
    "        comparision = {'prediction':prediction,'truth':y_test}\n",
    "        comparision_list.append(comparision)\n",
    "    return comparision_list"
   ]
  },
  {
   "cell_type": "code",
   "execution_count": 0,
   "metadata": {
    "colab": {},
    "colab_type": "code",
    "id": "Q3RQCPLQBvz9"
   },
   "outputs": [],
   "source": [
    "def modelsearch(modelList,df):\n",
    "    result_list = [] \n",
    "    for model in tqdm(modelList):\n",
    "        result = cv(df,model)\n",
    "        result_list.append(result)\n",
    "    return result_list"
   ]
  },
  {
   "cell_type": "code",
   "execution_count": 0,
   "metadata": {
    "colab": {},
    "colab_type": "code",
    "id": "nT7jFB1YJret"
   },
   "outputs": [],
   "source": [
    "def allsearch():\n",
    "    final_list = []\n",
    "    for df in [B1,B2,B3,B4]:\n",
    "        final = modelsearch(modelList,df)\n",
    "        final_list.append(final)\n",
    "    return final_list"
   ]
  },
  {
   "cell_type": "code",
   "execution_count": 0,
   "metadata": {
    "colab": {},
    "colab_type": "code",
    "id": "C3lfywOtXW80"
   },
   "outputs": [],
   "source": [
    "B1_result = modelsearch(modelList,B1)"
   ]
  }
 ],
 "metadata": {
  "accelerator": "GPU",
  "colab": {
   "collapsed_sections": [],
   "include_colab_link": true,
   "name": "Test regression.ipynb",
   "provenance": [],
   "toc_visible": true,
   "version": "0.3.2"
  },
  "kernelspec": {
   "display_name": "Python 3",
   "language": "python",
   "name": "python3"
  },
  "language_info": {
   "codemirror_mode": {
    "name": "ipython",
    "version": 3
   },
   "file_extension": ".py",
   "mimetype": "text/x-python",
   "name": "python",
   "nbconvert_exporter": "python",
   "pygments_lexer": "ipython3",
   "version": "3.7.3"
  }
 },
 "nbformat": 4,
 "nbformat_minor": 1
}

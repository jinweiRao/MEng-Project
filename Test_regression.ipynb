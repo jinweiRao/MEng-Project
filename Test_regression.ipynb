{
  "nbformat": 4,
  "nbformat_minor": 0,
  "metadata": {
    "colab": {
      "name": "Test regression.ipynb",
      "version": "0.3.2",
      "provenance": [],
      "collapsed_sections": [],
      "toc_visible": true,
      "include_colab_link": true
    },
    "language_info": {
      "codemirror_mode": {
        "name": "ipython",
        "version": 3
      },
      "file_extension": ".py",
      "mimetype": "text/x-python",
      "name": "python",
      "nbconvert_exporter": "python",
      "pygments_lexer": "ipython3",
      "version": "3.6.8"
    },
    "kernelspec": {
      "name": "python3",
      "display_name": "Python 3"
    },
    "accelerator": "GPU"
  },
  "cells": [
    {
      "cell_type": "markdown",
      "metadata": {
        "id": "view-in-github",
        "colab_type": "text"
      },
      "source": [
        "<a href=\"https://colab.research.google.com/github/jinweiRao/MEng-Project/blob/master/Test_regression.ipynb\" target=\"_parent\"><img src=\"https://colab.research.google.com/assets/colab-badge.svg\" alt=\"Open In Colab\"/></a>"
      ]
    },
    {
      "cell_type": "code",
      "metadata": {
        "id": "I6Q_bTr0z7RO",
        "colab_type": "code",
        "outputId": "20da54c8-c36a-4940-acaa-8cf376cef89a",
        "colab": {
          "base_uri": "https://localhost:8080/",
          "height": 34
        }
      },
      "source": [
        "import tensorflow\n",
        "from tensorflow import keras\n",
        "from keras.optimizers import SGD, Adam,RMSprop\n",
        "from keras.layers import Dense,Activation,Input\n",
        "import numpy as np\n",
        "import pandas as pd\n",
        "from keras import Sequential\n",
        "from keras.wrappers.scikit_learn import KerasRegressor\n",
        "from sklearn.model_selection import cross_val_score\n",
        "from sklearn.model_selection import KFold\n",
        "from sklearn.model_selection import cross_val_predict\n",
        "import matplotlib.pyplot as plt\n",
        "from keras import optimizers, regularizers\n",
        "import seaborn as sns\n",
        "from keras import callbacks\n",
        "from scipy.stats.stats import pearsonr\n",
        "import random\n",
        "import matplotlib.pyplot\n",
        "from sklearn.cluster import KMeans\n",
        "from sklearn import tree\n",
        "from tqdm import tqdm"
      ],
      "execution_count": 0,
      "outputs": [
        {
          "output_type": "stream",
          "text": [
            "Using TensorFlow backend.\n"
          ],
          "name": "stderr"
        }
      ]
    },
    {
      "cell_type": "code",
      "metadata": {
        "id": "Oh4ktePFGjZd",
        "colab_type": "code",
        "colab": {}
      },
      "source": [
        ""
      ],
      "execution_count": 0,
      "outputs": []
    },
    {
      "cell_type": "markdown",
      "metadata": {
        "id": "KQM_larKz7RR",
        "colab_type": "text"
      },
      "source": [
        "## Build baseline_model"
      ]
    },
    {
      "cell_type": "code",
      "metadata": {
        "id": "itNzWXQ0z7RS",
        "colab_type": "code",
        "colab": {}
      },
      "source": [
        "data=pd.read_csv('plant_A.csv')"
      ],
      "execution_count": 0,
      "outputs": []
    },
    {
      "cell_type": "code",
      "metadata": {
        "id": "ipTY_jM0z7RU",
        "colab_type": "code",
        "outputId": "54e56e20-796f-4ad9-88e9-766ecdbc7833",
        "colab": {
          "base_uri": "https://localhost:8080/",
          "height": 195
        }
      },
      "source": [
        "data1 = data.copy()\n",
        "data1.Temp,data1.CaO=data1.Temp/1000,data1.CaO/10\n",
        "data1.head()"
      ],
      "execution_count": 0,
      "outputs": [
        {
          "output_type": "execute_result",
          "data": {
            "text/html": [
              "<div>\n",
              "<style scoped>\n",
              "    .dataframe tbody tr th:only-of-type {\n",
              "        vertical-align: middle;\n",
              "    }\n",
              "\n",
              "    .dataframe tbody tr th {\n",
              "        vertical-align: top;\n",
              "    }\n",
              "\n",
              "    .dataframe thead th {\n",
              "        text-align: right;\n",
              "    }\n",
              "</style>\n",
              "<table border=\"1\" class=\"dataframe\">\n",
              "  <thead>\n",
              "    <tr style=\"text-align: right;\">\n",
              "      <th></th>\n",
              "      <th>lp</th>\n",
              "      <th>Temp</th>\n",
              "      <th>CaO</th>\n",
              "      <th>MgO</th>\n",
              "      <th>SiO2</th>\n",
              "      <th>Fe-total</th>\n",
              "      <th>MnO</th>\n",
              "      <th>Al2O3</th>\n",
              "      <th>TiO2</th>\n",
              "      <th>V2O5</th>\n",
              "    </tr>\n",
              "  </thead>\n",
              "  <tbody>\n",
              "    <tr>\n",
              "      <th>0</th>\n",
              "      <td>4.736198</td>\n",
              "      <td>1.649</td>\n",
              "      <td>4.00</td>\n",
              "      <td>8.63</td>\n",
              "      <td>7.8</td>\n",
              "      <td>27.5</td>\n",
              "      <td>3.38</td>\n",
              "      <td>0.91</td>\n",
              "      <td>0.45</td>\n",
              "      <td>1.473</td>\n",
              "    </tr>\n",
              "    <tr>\n",
              "      <th>1</th>\n",
              "      <td>4.436094</td>\n",
              "      <td>1.654</td>\n",
              "      <td>3.96</td>\n",
              "      <td>9.99</td>\n",
              "      <td>9.2</td>\n",
              "      <td>23.0</td>\n",
              "      <td>4.14</td>\n",
              "      <td>2.60</td>\n",
              "      <td>0.68</td>\n",
              "      <td>1.945</td>\n",
              "    </tr>\n",
              "    <tr>\n",
              "      <th>2</th>\n",
              "      <td>4.499810</td>\n",
              "      <td>1.664</td>\n",
              "      <td>4.48</td>\n",
              "      <td>8.80</td>\n",
              "      <td>11.0</td>\n",
              "      <td>20.2</td>\n",
              "      <td>3.45</td>\n",
              "      <td>1.58</td>\n",
              "      <td>0.76</td>\n",
              "      <td>2.070</td>\n",
              "    </tr>\n",
              "    <tr>\n",
              "      <th>3</th>\n",
              "      <td>4.140865</td>\n",
              "      <td>1.680</td>\n",
              "      <td>4.24</td>\n",
              "      <td>8.10</td>\n",
              "      <td>11.5</td>\n",
              "      <td>21.1</td>\n",
              "      <td>3.76</td>\n",
              "      <td>2.47</td>\n",
              "      <td>0.88</td>\n",
              "      <td>2.161</td>\n",
              "    </tr>\n",
              "    <tr>\n",
              "      <th>4</th>\n",
              "      <td>4.081441</td>\n",
              "      <td>1.671</td>\n",
              "      <td>4.88</td>\n",
              "      <td>11.73</td>\n",
              "      <td>11.8</td>\n",
              "      <td>13.3</td>\n",
              "      <td>3.26</td>\n",
              "      <td>1.48</td>\n",
              "      <td>0.78</td>\n",
              "      <td>1.976</td>\n",
              "    </tr>\n",
              "  </tbody>\n",
              "</table>\n",
              "</div>"
            ],
            "text/plain": [
              "         lp   Temp   CaO    MgO  SiO2  Fe-total   MnO  Al2O3  TiO2   V2O5\n",
              "0  4.736198  1.649  4.00   8.63   7.8      27.5  3.38   0.91  0.45  1.473\n",
              "1  4.436094  1.654  3.96   9.99   9.2      23.0  4.14   2.60  0.68  1.945\n",
              "2  4.499810  1.664  4.48   8.80  11.0      20.2  3.45   1.58  0.76  2.070\n",
              "3  4.140865  1.680  4.24   8.10  11.5      21.1  3.76   2.47  0.88  2.161\n",
              "4  4.081441  1.671  4.88  11.73  11.8      13.3  3.26   1.48  0.78  1.976"
            ]
          },
          "metadata": {
            "tags": []
          },
          "execution_count": 5
        }
      ]
    },
    {
      "cell_type": "code",
      "metadata": {
        "id": "3MqyGxMD7Ash",
        "colab_type": "code",
        "colab": {}
      },
      "source": [
        "def stdarize_data(data):\n",
        "  mean = data.describe().loc['mean'].values\n",
        "  std = data.describe().loc['std'].values\n",
        "  stddata = (data - mean)/std\n",
        "  return stddata"
      ],
      "execution_count": 0,
      "outputs": []
    },
    {
      "cell_type": "code",
      "metadata": {
        "id": "s50iT6Af-IXB",
        "colab_type": "code",
        "colab": {}
      },
      "source": [
        "stddata = stdarize_data(data)"
      ],
      "execution_count": 0,
      "outputs": []
    },
    {
      "cell_type": "code",
      "metadata": {
        "id": "-LOo3BhrHC_g",
        "colab_type": "code",
        "colab": {}
      },
      "source": [
        "def Mse(prediction,truth):\n",
        "  mse = sum((prediction - truth)**2)/len(truth)\n",
        "  return mse"
      ],
      "execution_count": 0,
      "outputs": []
    },
    {
      "cell_type": "code",
      "metadata": {
        "id": "fz687WR0CQpe",
        "colab_type": "code",
        "outputId": "01dc35a8-c3b6-4c74-bf4d-48034aaee2ff",
        "colab": {
          "base_uri": "https://localhost:8080/",
          "height": 232
        }
      },
      "source": [
        "X_tree = S4.loc[:,'MgO'].values.reshape(-1,1)\n",
        "y_tree = S4.loc[:,'lp'].values.reshape(-1,1)\n",
        "clf = tree.DecisionTreeRegressor(max_depth = 1, criterion = 'mse')\n",
        "clf = clf.fit(X_tree,y_tree)\n",
        "tree_result = tree.export_text(clf)\n",
        "print(tree_result)"
      ],
      "execution_count": 0,
      "outputs": [
        {
          "output_type": "error",
          "ename": "NameError",
          "evalue": "ignored",
          "traceback": [
            "\u001b[0;31m---------------------------------------------------------------------------\u001b[0m",
            "\u001b[0;31mNameError\u001b[0m                                 Traceback (most recent call last)",
            "\u001b[0;32m<ipython-input-9-40dde6aad81b>\u001b[0m in \u001b[0;36m<module>\u001b[0;34m()\u001b[0m\n\u001b[0;32m----> 1\u001b[0;31m \u001b[0mX_tree\u001b[0m \u001b[0;34m=\u001b[0m \u001b[0mS4\u001b[0m\u001b[0;34m.\u001b[0m\u001b[0mloc\u001b[0m\u001b[0;34m[\u001b[0m\u001b[0;34m:\u001b[0m\u001b[0;34m,\u001b[0m\u001b[0;34m'MgO'\u001b[0m\u001b[0;34m]\u001b[0m\u001b[0;34m.\u001b[0m\u001b[0mvalues\u001b[0m\u001b[0;34m.\u001b[0m\u001b[0mreshape\u001b[0m\u001b[0;34m(\u001b[0m\u001b[0;34m-\u001b[0m\u001b[0;36m1\u001b[0m\u001b[0;34m,\u001b[0m\u001b[0;36m1\u001b[0m\u001b[0;34m)\u001b[0m\u001b[0;34m\u001b[0m\u001b[0;34m\u001b[0m\u001b[0m\n\u001b[0m\u001b[1;32m      2\u001b[0m \u001b[0my_tree\u001b[0m \u001b[0;34m=\u001b[0m \u001b[0mS4\u001b[0m\u001b[0;34m.\u001b[0m\u001b[0mloc\u001b[0m\u001b[0;34m[\u001b[0m\u001b[0;34m:\u001b[0m\u001b[0;34m,\u001b[0m\u001b[0;34m'lp'\u001b[0m\u001b[0;34m]\u001b[0m\u001b[0;34m.\u001b[0m\u001b[0mvalues\u001b[0m\u001b[0;34m.\u001b[0m\u001b[0mreshape\u001b[0m\u001b[0;34m(\u001b[0m\u001b[0;34m-\u001b[0m\u001b[0;36m1\u001b[0m\u001b[0;34m,\u001b[0m\u001b[0;36m1\u001b[0m\u001b[0;34m)\u001b[0m\u001b[0;34m\u001b[0m\u001b[0;34m\u001b[0m\u001b[0m\n\u001b[1;32m      3\u001b[0m \u001b[0mclf\u001b[0m \u001b[0;34m=\u001b[0m \u001b[0mtree\u001b[0m\u001b[0;34m.\u001b[0m\u001b[0mDecisionTreeRegressor\u001b[0m\u001b[0;34m(\u001b[0m\u001b[0mmax_depth\u001b[0m \u001b[0;34m=\u001b[0m \u001b[0;36m1\u001b[0m\u001b[0;34m,\u001b[0m \u001b[0mcriterion\u001b[0m \u001b[0;34m=\u001b[0m \u001b[0;34m'mse'\u001b[0m\u001b[0;34m)\u001b[0m\u001b[0;34m\u001b[0m\u001b[0;34m\u001b[0m\u001b[0m\n\u001b[1;32m      4\u001b[0m \u001b[0mclf\u001b[0m \u001b[0;34m=\u001b[0m \u001b[0mclf\u001b[0m\u001b[0;34m.\u001b[0m\u001b[0mfit\u001b[0m\u001b[0;34m(\u001b[0m\u001b[0mX_tree\u001b[0m\u001b[0;34m,\u001b[0m\u001b[0my_tree\u001b[0m\u001b[0;34m)\u001b[0m\u001b[0;34m\u001b[0m\u001b[0;34m\u001b[0m\u001b[0m\n\u001b[1;32m      5\u001b[0m \u001b[0mtree_result\u001b[0m \u001b[0;34m=\u001b[0m \u001b[0mtree\u001b[0m\u001b[0;34m.\u001b[0m\u001b[0mexport_text\u001b[0m\u001b[0;34m(\u001b[0m\u001b[0mclf\u001b[0m\u001b[0;34m)\u001b[0m\u001b[0;34m\u001b[0m\u001b[0;34m\u001b[0m\u001b[0m\n",
            "\u001b[0;31mNameError\u001b[0m: name 'S4' is not defined"
          ]
        }
      ]
    },
    {
      "cell_type": "code",
      "metadata": {
        "id": "YaaIwlTnVSlc",
        "colab_type": "code",
        "colab": {}
      },
      "source": [
        "T1 = stddata.loc[stddata['Temp']<=0.24].copy()\n",
        "T2 = stddata.loc[stddata['Temp']>0.24].copy()\n",
        "S1 = T1.loc[T1['SiO2'] <= 0.47].reset_index().drop(['index'],axis = 1)\n",
        "S2 = T1.loc[T1['SiO2'] > 0.47].reset_index().drop(['index'],axis = 1)\n",
        "S3 = T2.loc[T2['SiO2'] <= 0.33].reset_index().drop(['index'],axis = 1)\n",
        "S4 = T2.loc[T2['SiO2'] > 0.33].reset_index().drop(['index'],axis = 1)\n",
        "M1 = S1.loc[S1['MgO'] <= 0.72].reset_index().drop(['index'],axis = 1)\n",
        "M2 = S1.loc[S1['MgO'] > 0.72].reset_index().drop(['index'],axis = 1)\n",
        "M3 = S2.loc[S2['MgO'] <= 0.81].reset_index().drop(['index'],axis = 1)\n",
        "M4 = S2.loc[S2['MgO'] > 0.81].reset_index().drop(['index'],axis = 1)\n",
        "M5 = S3.loc[S3['MgO'] <= 0.36].reset_index().drop(['index'],axis = 1)\n",
        "M6 = S3.loc[S3['MgO'] > 0.36].reset_index().drop(['index'],axis = 1)\n",
        "M7 = S4.loc[S4['MgO'] <= -0.17].reset_index().drop(['index'],axis = 1)\n",
        "M8 = S4.loc[S4['MgO'] > -0.17].reset_index().drop(['index'],axis = 1)"
      ],
      "execution_count": 0,
      "outputs": []
    },
    {
      "cell_type": "code",
      "metadata": {
        "id": "si4k4-9nMsKc",
        "colab_type": "code",
        "colab": {}
      },
      "source": [
        "test_sample = data.sample(n = 2000, random_state = 9)"
      ],
      "execution_count": 0,
      "outputs": []
    },
    {
      "cell_type": "code",
      "metadata": {
        "id": "7EXFr_ekLeD5",
        "colab_type": "code",
        "outputId": "85982251-8923-4f69-b06f-0fde6f49f699",
        "colab": {
          "base_uri": "https://localhost:8080/",
          "height": 131
        }
      },
      "source": [
        "def neuroneTuning(nums):\n",
        "  model = baseline_model('relu','RMSprop',nums)\n",
        "  model.fit()"
      ],
      "execution_count": 0,
      "outputs": [
        {
          "output_type": "error",
          "ename": "SyntaxError",
          "evalue": "ignored",
          "traceback": [
            "\u001b[0;36m  File \u001b[0;32m\"<ipython-input-40-8a3e2766444c>\"\u001b[0;36m, line \u001b[0;32m1\u001b[0m\n\u001b[0;31m    def neuroneTuning(nums):\u001b[0m\n\u001b[0m                            ^\u001b[0m\n\u001b[0;31mSyntaxError\u001b[0m\u001b[0;31m:\u001b[0m unexpected EOF while parsing\n"
          ]
        }
      ]
    },
    {
      "cell_type": "code",
      "metadata": {
        "id": "yEEB0zl3z7SP",
        "colab_type": "code",
        "colab": {}
      },
      "source": [
        "X = data1.drop(['lp','Basicity'],axis=1).values\n",
        "y = data1.lp.values\n",
        "#X_train,X_test=X[:8000],X[8001:11000],X[11001:]\n",
        "#y_train,y_test=y[:8000],y[8001:11000],y[11001:]"
      ],
      "execution_count": 0,
      "outputs": []
    },
    {
      "cell_type": "code",
      "metadata": {
        "id": "cEVKjoI53KJp",
        "colab_type": "code",
        "colab": {}
      },
      "source": [
        "act_list = ['sigmoid','tanh','softsign']\n",
        "opt_list = ['adam','RMSprop','Adadelta','SGD','Nadam']"
      ],
      "execution_count": 0,
      "outputs": []
    },
    {
      "cell_type": "code",
      "metadata": {
        "id": "mkdzkz9bz7SY",
        "colab_type": "code",
        "colab": {}
      },
      "source": [
        "def baseline_model(act,opt,nums):\n",
        "    model = Sequential()\n",
        "    model.add(Dense(nums, input_dim = 9, activation = act))\n",
        "    model.add(Dense(1, activation = 'linear'))\n",
        "    model.compile(loss='mse', optimizer = opt, metrics=['mse']) \n",
        "    return model"
      ],
      "execution_count": 0,
      "outputs": []
    },
    {
      "cell_type": "code",
      "metadata": {
        "id": "_-Q_NDlAA7bt",
        "colab_type": "code",
        "colab": {}
      },
      "source": [
        "def generate_model():\n",
        "  model_list = []\n",
        "  for act in act_list:\n",
        "    for opt in opt_list:\n",
        "      model_list.append(baseline_model(act,opt))\n",
        "  return model_list"
      ],
      "execution_count": 0,
      "outputs": []
    },
    {
      "cell_type": "code",
      "metadata": {
        "id": "CYDtO_WeBb6Q",
        "colab_type": "code",
        "colab": {}
      },
      "source": [
        "modelList = generate_model()"
      ],
      "execution_count": 0,
      "outputs": []
    },
    {
      "cell_type": "code",
      "metadata": {
        "id": "XmALal98M-9R",
        "colab_type": "code",
        "colab": {}
      },
      "source": [
        "def cv(df,model):\n",
        "  kf = KFold(n_splits = 5, random_state = 10, shuffle = False)\n",
        "  splits = kf.split(df)\n",
        "  comparision_list = []\n",
        "  for train_index,test_index in tqdm(splits):\n",
        "    X_train = df.loc[train_index,'Temp':'V2O5'].values\n",
        "    X_test = df.loc[test_index,'Temp':'V2O5'].values\n",
        "    y_train = df.loc[train_index,'lp'].values\n",
        "    y_test = df.loc[test_index,'lp'].values\n",
        "    model.fit(X_train, y_train, epochs = 150, batch_size = 20, validation_data = (X_test,y_test),verbose = 0)\n",
        "    prediction = model.predict(X_test).reshape(len(X_test),)\n",
        "    comparision = {'prediction':prediction,'truth':y_test}\n",
        "    comparision_list.append(comparision)\n",
        "  return comparision_list"
      ],
      "execution_count": 0,
      "outputs": []
    },
    {
      "cell_type": "code",
      "metadata": {
        "id": "Q3RQCPLQBvz9",
        "colab_type": "code",
        "colab": {}
      },
      "source": [
        "def modelsearch(modelList,df):\n",
        "  result_list = [] \n",
        "  for model in tqdm(modelList):\n",
        "    result = cv(df,model)\n",
        "    result_list.append(result)\n",
        "  return result_list"
      ],
      "execution_count": 0,
      "outputs": []
    },
    {
      "cell_type": "code",
      "metadata": {
        "id": "nT7jFB1YJret",
        "colab_type": "code",
        "colab": {}
      },
      "source": [
        "def allsearch():\n",
        "  final_list = []\n",
        "  for df in [B1,B2,B3,B4]:\n",
        "    final = modelsearch(modelList,df)\n",
        "    final_list.append(final)\n",
        "  return final_list"
      ],
      "execution_count": 0,
      "outputs": []
    },
    {
      "cell_type": "code",
      "metadata": {
        "id": "C3lfywOtXW80",
        "colab_type": "code",
        "colab": {}
      },
      "source": [
        "B1_result = modelsearch(modelList,B1)"
      ],
      "execution_count": 0,
      "outputs": []
    }
  ]
}
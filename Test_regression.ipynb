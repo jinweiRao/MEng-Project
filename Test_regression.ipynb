{
  "nbformat": 4,
  "nbformat_minor": 0,
  "metadata": {
    "colab": {
      "name": "Test regression.ipynb",
      "version": "0.3.2",
      "provenance": [],
      "toc_visible": true,
      "include_colab_link": true
    },
    "language_info": {
      "codemirror_mode": {
        "name": "ipython",
        "version": 3
      },
      "file_extension": ".py",
      "mimetype": "text/x-python",
      "name": "python",
      "nbconvert_exporter": "python",
      "pygments_lexer": "ipython3",
      "version": "3.6.8"
    },
    "kernelspec": {
      "name": "python3",
      "display_name": "Python 3"
    },
    "accelerator": "GPU"
  },
  "cells": [
    {
      "cell_type": "markdown",
      "metadata": {
        "id": "view-in-github",
        "colab_type": "text"
      },
      "source": [
        "<a href=\"https://colab.research.google.com/github/jinweiRao/MEng-Project/blob/master/Test_regression.ipynb\" target=\"_parent\"><img src=\"https://colab.research.google.com/assets/colab-badge.svg\" alt=\"Open In Colab\"/></a>"
      ]
    },
    {
      "cell_type": "code",
      "metadata": {
        "id": "I6Q_bTr0z7RO",
        "colab_type": "code",
        "colab": {}
      },
      "source": [
        "import tensorflow\n",
        "from tensorflow import keras\n",
        "from keras.optimizers import SGD, Adam,RMSprop\n",
        "from keras.layers import Dense,Activation,Input\n",
        "import numpy as np\n",
        "import pandas as pd\n",
        "from keras import Sequential\n",
        "from keras.wrappers.scikit_learn import KerasRegressor\n",
        "from sklearn.model_selection import cross_val_score\n",
        "from sklearn.model_selection import KFold\n",
        "from sklearn.model_selection import cross_val_predict\n",
        "import matplotlib.pyplot as plt\n",
        "from keras import optimizers, regularizers\n",
        "import seaborn as sns\n",
        "from keras import callbacks\n",
        "from scipy.stats.stats import pearsonr\n",
        "import random\n",
        "import matplotlib.pyplot\n",
        "from sklearn.cluster import KMeans\n",
        "from sklearn import tree\n",
        "from tqdm import tqdm"
      ],
      "execution_count": 0,
      "outputs": []
    },
    {
      "cell_type": "markdown",
      "metadata": {
        "id": "KQM_larKz7RR",
        "colab_type": "text"
      },
      "source": [
        "## Build baseline_model"
      ]
    },
    {
      "cell_type": "code",
      "metadata": {
        "id": "itNzWXQ0z7RS",
        "colab_type": "code",
        "colab": {}
      },
      "source": [
        "data=pd.read_csv('plant_A.csv')"
      ],
      "execution_count": 0,
      "outputs": []
    },
    {
      "cell_type": "code",
      "metadata": {
        "id": "ipTY_jM0z7RU",
        "colab_type": "code",
        "colab": {
          "base_uri": "https://localhost:8080/",
          "height": 204
        },
        "outputId": "100083c3-e2e4-4ed4-a461-57f2aa54d39d"
      },
      "source": [
        "data1 = data.copy()\n",
        "data1.Temp,data1.CaO=data1.Temp/1000,data1.CaO/10\n",
        "data1.head()"
      ],
      "execution_count": 3,
      "outputs": [
        {
          "output_type": "execute_result",
          "data": {
            "text/html": [
              "<div>\n",
              "<style scoped>\n",
              "    .dataframe tbody tr th:only-of-type {\n",
              "        vertical-align: middle;\n",
              "    }\n",
              "\n",
              "    .dataframe tbody tr th {\n",
              "        vertical-align: top;\n",
              "    }\n",
              "\n",
              "    .dataframe thead th {\n",
              "        text-align: right;\n",
              "    }\n",
              "</style>\n",
              "<table border=\"1\" class=\"dataframe\">\n",
              "  <thead>\n",
              "    <tr style=\"text-align: right;\">\n",
              "      <th></th>\n",
              "      <th>lp</th>\n",
              "      <th>Temp</th>\n",
              "      <th>CaO</th>\n",
              "      <th>MgO</th>\n",
              "      <th>SiO2</th>\n",
              "      <th>Fe_total</th>\n",
              "      <th>MnO</th>\n",
              "      <th>Al2O3</th>\n",
              "      <th>TiO2</th>\n",
              "      <th>V2O5</th>\n",
              "    </tr>\n",
              "  </thead>\n",
              "  <tbody>\n",
              "    <tr>\n",
              "      <th>0</th>\n",
              "      <td>4.736198</td>\n",
              "      <td>1.649</td>\n",
              "      <td>4.00</td>\n",
              "      <td>8.63</td>\n",
              "      <td>7.8</td>\n",
              "      <td>27.5</td>\n",
              "      <td>3.38</td>\n",
              "      <td>0.91</td>\n",
              "      <td>0.45</td>\n",
              "      <td>1.473</td>\n",
              "    </tr>\n",
              "    <tr>\n",
              "      <th>1</th>\n",
              "      <td>4.436094</td>\n",
              "      <td>1.654</td>\n",
              "      <td>3.96</td>\n",
              "      <td>9.99</td>\n",
              "      <td>9.2</td>\n",
              "      <td>23.0</td>\n",
              "      <td>4.14</td>\n",
              "      <td>2.60</td>\n",
              "      <td>0.68</td>\n",
              "      <td>1.945</td>\n",
              "    </tr>\n",
              "    <tr>\n",
              "      <th>2</th>\n",
              "      <td>4.499810</td>\n",
              "      <td>1.664</td>\n",
              "      <td>4.48</td>\n",
              "      <td>8.80</td>\n",
              "      <td>11.0</td>\n",
              "      <td>20.2</td>\n",
              "      <td>3.45</td>\n",
              "      <td>1.58</td>\n",
              "      <td>0.76</td>\n",
              "      <td>2.070</td>\n",
              "    </tr>\n",
              "    <tr>\n",
              "      <th>3</th>\n",
              "      <td>4.140865</td>\n",
              "      <td>1.680</td>\n",
              "      <td>4.24</td>\n",
              "      <td>8.10</td>\n",
              "      <td>11.5</td>\n",
              "      <td>21.1</td>\n",
              "      <td>3.76</td>\n",
              "      <td>2.47</td>\n",
              "      <td>0.88</td>\n",
              "      <td>2.161</td>\n",
              "    </tr>\n",
              "    <tr>\n",
              "      <th>4</th>\n",
              "      <td>4.081441</td>\n",
              "      <td>1.671</td>\n",
              "      <td>4.88</td>\n",
              "      <td>11.73</td>\n",
              "      <td>11.8</td>\n",
              "      <td>13.3</td>\n",
              "      <td>3.26</td>\n",
              "      <td>1.48</td>\n",
              "      <td>0.78</td>\n",
              "      <td>1.976</td>\n",
              "    </tr>\n",
              "  </tbody>\n",
              "</table>\n",
              "</div>"
            ],
            "text/plain": [
              "         lp   Temp   CaO    MgO  SiO2  Fe_total   MnO  Al2O3  TiO2   V2O5\n",
              "0  4.736198  1.649  4.00   8.63   7.8      27.5  3.38   0.91  0.45  1.473\n",
              "1  4.436094  1.654  3.96   9.99   9.2      23.0  4.14   2.60  0.68  1.945\n",
              "2  4.499810  1.664  4.48   8.80  11.0      20.2  3.45   1.58  0.76  2.070\n",
              "3  4.140865  1.680  4.24   8.10  11.5      21.1  3.76   2.47  0.88  2.161\n",
              "4  4.081441  1.671  4.88  11.73  11.8      13.3  3.26   1.48  0.78  1.976"
            ]
          },
          "metadata": {
            "tags": []
          },
          "execution_count": 3
        }
      ]
    },
    {
      "cell_type": "code",
      "metadata": {
        "id": "-LOo3BhrHC_g",
        "colab_type": "code",
        "colab": {}
      },
      "source": [
        "def Mse(prediction,truth):\n",
        "  mse = sum((prediction - truth)**2)/len(truth)\n",
        "  return mse"
      ],
      "execution_count": 0,
      "outputs": []
    },
    {
      "cell_type": "code",
      "metadata": {
        "id": "tNTt4yCaCsW5",
        "colab_type": "code",
        "colab": {}
      },
      "source": [
        "data1['Basicity'] = (data['CaO'] + 0.3*data['MgO'])/data['SiO2']\n",
        "data['Basicity'] = (data['CaO'] + 0.3*data['MgO'])/data['SiO2']"
      ],
      "execution_count": 0,
      "outputs": []
    },
    {
      "cell_type": "code",
      "metadata": {
        "id": "fz687WR0CQpe",
        "colab_type": "code",
        "colab": {}
      },
      "source": [
        "X_tree = data.loc[:,'Temp':'Basicity':9]\n",
        "y_tree = data.loc[:,'lp']"
      ],
      "execution_count": 0,
      "outputs": []
    },
    {
      "cell_type": "code",
      "metadata": {
        "id": "yEEB0zl3z7SP",
        "colab_type": "code",
        "colab": {}
      },
      "source": [
        "X = data1.drop(['lp','Basicity'],axis=1).values\n",
        "y = data1.lp.values\n",
        "#X_train,X_test=X[:8000],X[8001:11000],X[11001:]\n",
        "#y_train,y_test=y[:8000],y[8001:11000],y[11001:]"
      ],
      "execution_count": 0,
      "outputs": []
    },
    {
      "cell_type": "code",
      "metadata": {
        "id": "_qP1gHW6EKr6",
        "colab_type": "code",
        "colab": {}
      },
      "source": [
        "clf = tree.DecisionTreeRegressor(max_depth = 2, criterion = 'mse')\n",
        "clf = clf.fit(X_tree,y_tree)"
      ],
      "execution_count": 0,
      "outputs": []
    },
    {
      "cell_type": "code",
      "metadata": {
        "id": "DqYq9X5XQSA6",
        "colab_type": "code",
        "colab": {
          "base_uri": "https://localhost:8080/",
          "height": 204
        },
        "outputId": "78772243-b5bd-4ece-8993-41ac4c7572af"
      },
      "source": [
        "tree_result = tree.export_text(clf,feature_names = ['Temp','Basicity'])\n",
        "print(tree_result)"
      ],
      "execution_count": 9,
      "outputs": [
        {
          "output_type": "stream",
          "text": [
            "|--- Temp <= 1653.50\n",
            "|   |--- Basicity <= 3.19\n",
            "|   |   |--- value: [4.26]\n",
            "|   |--- Basicity >  3.19\n",
            "|   |   |--- value: [4.44]\n",
            "|--- Temp >  1653.50\n",
            "|   |--- Temp <= 1663.50\n",
            "|   |   |--- value: [4.23]\n",
            "|   |--- Temp >  1663.50\n",
            "|   |   |--- value: [4.12]\n",
            "\n"
          ],
          "name": "stdout"
        }
      ]
    },
    {
      "cell_type": "code",
      "metadata": {
        "id": "cEVKjoI53KJp",
        "colab_type": "code",
        "colab": {}
      },
      "source": [
        "act_list = ['sigmoid','tanh','softsign']\n",
        "opt_list = ['adam','RMSprop','Adadelta','SGD','Nadam']"
      ],
      "execution_count": 0,
      "outputs": []
    },
    {
      "cell_type": "code",
      "metadata": {
        "id": "mkdzkz9bz7SY",
        "colab_type": "code",
        "colab": {}
      },
      "source": [
        "def baseline_model(act,opt):\n",
        "    model = Sequential()\n",
        "    model.add(Dense(20, input_dim = 9, activation = act))\n",
        "    model.add(Dense(1, activation = 'linear'))\n",
        "    model.compile(loss='mse', optimizer = opt, metrics=['mse']) \n",
        "    return model"
      ],
      "execution_count": 0,
      "outputs": []
    },
    {
      "cell_type": "code",
      "metadata": {
        "id": "_-Q_NDlAA7bt",
        "colab_type": "code",
        "colab": {}
      },
      "source": [
        "def generate_model():\n",
        "  model_list = []\n",
        "  for act in act_list:\n",
        "    for opt in opt_list:\n",
        "      model_list.append(baseline_model(act,opt))\n",
        "  return model_list"
      ],
      "execution_count": 0,
      "outputs": []
    },
    {
      "cell_type": "code",
      "metadata": {
        "id": "CYDtO_WeBb6Q",
        "colab_type": "code",
        "colab": {}
      },
      "source": [
        "modelList = generate_model()"
      ],
      "execution_count": 0,
      "outputs": []
    },
    {
      "cell_type": "code",
      "metadata": {
        "id": "YaaIwlTnVSlc",
        "colab_type": "code",
        "colab": {}
      },
      "source": [
        "T1 = data1.loc[data1['Temp']<=1.653].copy()\n",
        "T2 = data1.loc[data1['Temp']>1.653].copy()\n",
        "B1 = T1.loc[T1['Basicity'] <= 3.19].reset_index().drop(['index'],axis = 1)\n",
        "B2 = T1.loc[T1['Basicity'] > 3.19].reset_index().drop(['index'],axis = 1)\n",
        "B3 = T2.loc[T2['Basicity'] <= 3.46].reset_index().drop(['index'],axis = 1)\n",
        "B4 = T2.loc[T2['Basicity'] > 3.46].reset_index().drop(['index'],axis = 1)\n",
        "  "
      ],
      "execution_count": 0,
      "outputs": []
    },
    {
      "cell_type": "code",
      "metadata": {
        "id": "XmALal98M-9R",
        "colab_type": "code",
        "colab": {}
      },
      "source": [
        "def cv(df,model):\n",
        "  kf = KFold(n_splits = 5, random_state = 10, shuffle = False)\n",
        "  splits = kf.split(df)\n",
        "  comparision_list = []\n",
        "  for train_index,test_index in tqdm(splits):\n",
        "    X_train = df.loc[train_index,'Temp':'V2O5'].values\n",
        "    X_test = df.loc[test_index,'Temp':'V2O5'].values\n",
        "    y_train = df.loc[train_index,'lp'].values\n",
        "    y_test = df.loc[test_index,'lp'].values\n",
        "    model.fit(X_train, y_train, epochs = 150, batch_size = 20, validation_data = (X_test,y_test),verbose = 0)\n",
        "    prediction = model.predict(X_test).reshape(len(X_test),)\n",
        "    comparision = {'prediction':prediction,'truth':y_test}\n",
        "    comparision_list.append(comparision)\n",
        "  return comparision_list"
      ],
      "execution_count": 0,
      "outputs": []
    },
    {
      "cell_type": "code",
      "metadata": {
        "id": "Q3RQCPLQBvz9",
        "colab_type": "code",
        "colab": {}
      },
      "source": [
        "def modelsearch(modelList,df):\n",
        "  result_list = [] \n",
        "  for model in tqdm(modelList):\n",
        "    result = cv(df,model)\n",
        "    result_list.append(result)\n",
        "  return result_list"
      ],
      "execution_count": 0,
      "outputs": []
    },
    {
      "cell_type": "code",
      "metadata": {
        "id": "nT7jFB1YJret",
        "colab_type": "code",
        "colab": {}
      },
      "source": [
        "def allsearch():\n",
        "  final_list = []\n",
        "  for df in [B1,B2,B3,B4]:\n",
        "    final = modelsearch(modelList,df)\n",
        "    final_list.append(final)\n",
        "  return final_list"
      ],
      "execution_count": 0,
      "outputs": []
    },
    {
      "cell_type": "code",
      "metadata": {
        "id": "C3lfywOtXW80",
        "colab_type": "code",
        "colab": {}
      },
      "source": [
        "B1_result = modelsearch(modelList,B1)"
      ],
      "execution_count": 0,
      "outputs": []
    }
  ]
}
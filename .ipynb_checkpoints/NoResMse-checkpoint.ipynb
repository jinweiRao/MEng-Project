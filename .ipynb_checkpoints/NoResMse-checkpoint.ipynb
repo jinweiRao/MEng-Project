{
 "cells": [
  {
   "cell_type": "markdown",
   "metadata": {
    "colab_type": "text",
    "id": "view-in-github"
   },
   "source": [
    "<a href=\"https://colab.research.google.com/github/jinweiRao/MEng-Project/blob/master/Test_regression.ipynb\" target=\"_parent\"><img src=\"https://colab.research.google.com/assets/colab-badge.svg\" alt=\"Open In Colab\"/></a>"
   ]
  },
  {
   "cell_type": "code",
   "execution_count": 29,
   "metadata": {
    "colab": {
     "base_uri": "https://localhost:8080/",
     "height": 34
    },
    "colab_type": "code",
    "id": "I6Q_bTr0z7RO",
    "outputId": "20da54c8-c36a-4940-acaa-8cf376cef89a"
   },
   "outputs": [],
   "source": [
    "import tensorflow\n",
    "from tensorflow import keras\n",
    "from keras import backend as K\n",
    "from keras.optimizers import SGD, Adam, RMSprop\n",
    "from keras.layers import Dense,Activation,Input\n",
    "import numpy as np\n",
    "import pandas as pd\n",
    "from keras import Sequential\n",
    "from keras.wrappers.scikit_learn import KerasRegressor\n",
    "from sklearn.model_selection import cross_val_score\n",
    "from sklearn.model_selection import KFold\n",
    "from sklearn.model_selection import cross_val_predict\n",
    "import matplotlib.pyplot as plt\n",
    "from keras import optimizers, regularizers\n",
    "import seaborn as sns\n",
    "from keras import callbacks\n",
    "from scipy.stats.stats import pearsonr\n",
    "import random\n",
    "import matplotlib.pyplot\n",
    "from sklearn.cluster import KMeans\n",
    "from tqdm import tqdm"
   ]
  },
  {
   "cell_type": "markdown",
   "metadata": {
    "colab_type": "text",
    "id": "KQM_larKz7RR"
   },
   "source": [
    "## Build baseline_model"
   ]
  },
  {
   "cell_type": "code",
   "execution_count": 2,
   "metadata": {
    "colab": {},
    "colab_type": "code",
    "id": "itNzWXQ0z7RS"
   },
   "outputs": [
    {
     "data": {
      "text/html": [
       "<div>\n",
       "<style scoped>\n",
       "    .dataframe tbody tr th:only-of-type {\n",
       "        vertical-align: middle;\n",
       "    }\n",
       "\n",
       "    .dataframe tbody tr th {\n",
       "        vertical-align: top;\n",
       "    }\n",
       "\n",
       "    .dataframe thead th {\n",
       "        text-align: right;\n",
       "    }\n",
       "</style>\n",
       "<table border=\"1\" class=\"dataframe\">\n",
       "  <thead>\n",
       "    <tr style=\"text-align: right;\">\n",
       "      <th></th>\n",
       "      <th>lp</th>\n",
       "      <th>Temp</th>\n",
       "      <th>CaO</th>\n",
       "      <th>MgO</th>\n",
       "      <th>SiO2</th>\n",
       "      <th>Fe_total</th>\n",
       "      <th>MnO</th>\n",
       "      <th>Al2O3</th>\n",
       "      <th>TiO2</th>\n",
       "      <th>V2O5</th>\n",
       "    </tr>\n",
       "  </thead>\n",
       "  <tbody>\n",
       "    <tr>\n",
       "      <th>0</th>\n",
       "      <td>4.736198</td>\n",
       "      <td>1649</td>\n",
       "      <td>40.0</td>\n",
       "      <td>8.63</td>\n",
       "      <td>7.8</td>\n",
       "      <td>27.5</td>\n",
       "      <td>3.38</td>\n",
       "      <td>0.91</td>\n",
       "      <td>0.45</td>\n",
       "      <td>1.473</td>\n",
       "    </tr>\n",
       "    <tr>\n",
       "      <th>1</th>\n",
       "      <td>4.436094</td>\n",
       "      <td>1654</td>\n",
       "      <td>39.6</td>\n",
       "      <td>9.99</td>\n",
       "      <td>9.2</td>\n",
       "      <td>23.0</td>\n",
       "      <td>4.14</td>\n",
       "      <td>2.60</td>\n",
       "      <td>0.68</td>\n",
       "      <td>1.945</td>\n",
       "    </tr>\n",
       "    <tr>\n",
       "      <th>2</th>\n",
       "      <td>4.499810</td>\n",
       "      <td>1664</td>\n",
       "      <td>44.8</td>\n",
       "      <td>8.80</td>\n",
       "      <td>11.0</td>\n",
       "      <td>20.2</td>\n",
       "      <td>3.45</td>\n",
       "      <td>1.58</td>\n",
       "      <td>0.76</td>\n",
       "      <td>2.070</td>\n",
       "    </tr>\n",
       "    <tr>\n",
       "      <th>3</th>\n",
       "      <td>4.140865</td>\n",
       "      <td>1680</td>\n",
       "      <td>42.4</td>\n",
       "      <td>8.10</td>\n",
       "      <td>11.5</td>\n",
       "      <td>21.1</td>\n",
       "      <td>3.76</td>\n",
       "      <td>2.47</td>\n",
       "      <td>0.88</td>\n",
       "      <td>2.161</td>\n",
       "    </tr>\n",
       "    <tr>\n",
       "      <th>4</th>\n",
       "      <td>4.081441</td>\n",
       "      <td>1671</td>\n",
       "      <td>48.8</td>\n",
       "      <td>11.73</td>\n",
       "      <td>11.8</td>\n",
       "      <td>13.3</td>\n",
       "      <td>3.26</td>\n",
       "      <td>1.48</td>\n",
       "      <td>0.78</td>\n",
       "      <td>1.976</td>\n",
       "    </tr>\n",
       "  </tbody>\n",
       "</table>\n",
       "</div>"
      ],
      "text/plain": [
       "         lp  Temp   CaO    MgO  SiO2  Fe_total   MnO  Al2O3  TiO2   V2O5\n",
       "0  4.736198  1649  40.0   8.63   7.8      27.5  3.38   0.91  0.45  1.473\n",
       "1  4.436094  1654  39.6   9.99   9.2      23.0  4.14   2.60  0.68  1.945\n",
       "2  4.499810  1664  44.8   8.80  11.0      20.2  3.45   1.58  0.76  2.070\n",
       "3  4.140865  1680  42.4   8.10  11.5      21.1  3.76   2.47  0.88  2.161\n",
       "4  4.081441  1671  48.8  11.73  11.8      13.3  3.26   1.48  0.78  1.976"
      ]
     },
     "execution_count": 2,
     "metadata": {},
     "output_type": "execute_result"
    }
   ],
   "source": [
    "data=pd.read_csv('plant_A.csv')\n",
    "data.head()"
   ]
  },
  {
   "cell_type": "code",
   "execution_count": 510,
   "metadata": {},
   "outputs": [],
   "source": [
    "trial_data = stddata.drop(['CaO'],axis =1).copy()"
   ]
  },
  {
   "cell_type": "code",
   "execution_count": 3,
   "metadata": {
    "colab": {},
    "colab_type": "code",
    "id": "3MqyGxMD7Ash"
   },
   "outputs": [],
   "source": [
    "def stdarize_data(data):\n",
    "    mean = data.describe().loc['mean'].values\n",
    "    std = data.describe().loc['std'].values\n",
    "    stddata = (data - mean)/std\n",
    "    return stddata"
   ]
  },
  {
   "cell_type": "code",
   "execution_count": 485,
   "metadata": {
    "colab": {},
    "colab_type": "code",
    "id": "s50iT6Af-IXB"
   },
   "outputs": [],
   "source": [
    "stddata = stdarize_data(data)\n",
    "stddata.loc[:,'lp'] = data.loc[:,'lp']\n",
    "stddata.head()"
   ]
  },
  {
   "cell_type": "code",
   "execution_count": 488,
   "metadata": {},
   "outputs": [
    {
     "data": {
      "text/html": [
       "<div>\n",
       "<style scoped>\n",
       "    .dataframe tbody tr th:only-of-type {\n",
       "        vertical-align: middle;\n",
       "    }\n",
       "\n",
       "    .dataframe tbody tr th {\n",
       "        vertical-align: top;\n",
       "    }\n",
       "\n",
       "    .dataframe thead th {\n",
       "        text-align: right;\n",
       "    }\n",
       "</style>\n",
       "<table border=\"1\" class=\"dataframe\">\n",
       "  <thead>\n",
       "    <tr style=\"text-align: right;\">\n",
       "      <th></th>\n",
       "      <th>lp</th>\n",
       "      <th>Temp</th>\n",
       "      <th>CaO</th>\n",
       "      <th>MgO</th>\n",
       "      <th>SiO2</th>\n",
       "      <th>Fe_total</th>\n",
       "      <th>MnO</th>\n",
       "      <th>Al2O3</th>\n",
       "      <th>TiO2</th>\n",
       "      <th>V2O5</th>\n",
       "    </tr>\n",
       "  </thead>\n",
       "  <tbody>\n",
       "    <tr>\n",
       "      <th>0</th>\n",
       "      <td>4.736198</td>\n",
       "      <td>0.009329</td>\n",
       "      <td>-0.671236</td>\n",
       "      <td>-0.439794</td>\n",
       "      <td>-2.922204</td>\n",
       "      <td>2.626815</td>\n",
       "      <td>-2.034799</td>\n",
       "      <td>-1.869831</td>\n",
       "      <td>-2.451391</td>\n",
       "      <td>-1.341048</td>\n",
       "    </tr>\n",
       "    <tr>\n",
       "      <th>1</th>\n",
       "      <td>4.436094</td>\n",
       "      <td>0.270513</td>\n",
       "      <td>-0.781774</td>\n",
       "      <td>0.555023</td>\n",
       "      <td>-2.118590</td>\n",
       "      <td>1.352351</td>\n",
       "      <td>-0.943029</td>\n",
       "      <td>1.682121</td>\n",
       "      <td>-1.622410</td>\n",
       "      <td>-0.383367</td>\n",
       "    </tr>\n",
       "    <tr>\n",
       "      <th>2</th>\n",
       "      <td>4.499810</td>\n",
       "      <td>0.792881</td>\n",
       "      <td>0.655222</td>\n",
       "      <td>-0.315442</td>\n",
       "      <td>-1.085373</td>\n",
       "      <td>0.559351</td>\n",
       "      <td>-1.934241</td>\n",
       "      <td>-0.461660</td>\n",
       "      <td>-1.334069</td>\n",
       "      <td>-0.129743</td>\n",
       "    </tr>\n",
       "    <tr>\n",
       "      <th>3</th>\n",
       "      <td>4.140865</td>\n",
       "      <td>1.628670</td>\n",
       "      <td>-0.008007</td>\n",
       "      <td>-0.827481</td>\n",
       "      <td>-0.798368</td>\n",
       "      <td>0.814244</td>\n",
       "      <td>-1.488914</td>\n",
       "      <td>1.408894</td>\n",
       "      <td>-0.901557</td>\n",
       "      <td>0.054895</td>\n",
       "    </tr>\n",
       "    <tr>\n",
       "      <th>4</th>\n",
       "      <td>4.081441</td>\n",
       "      <td>1.158539</td>\n",
       "      <td>1.760603</td>\n",
       "      <td>1.827804</td>\n",
       "      <td>-0.626165</td>\n",
       "      <td>-1.394827</td>\n",
       "      <td>-2.207183</td>\n",
       "      <td>-0.671835</td>\n",
       "      <td>-1.261984</td>\n",
       "      <td>-0.320468</td>\n",
       "    </tr>\n",
       "  </tbody>\n",
       "</table>\n",
       "</div>"
      ],
      "text/plain": [
       "         lp      Temp       CaO       MgO      SiO2  Fe_total       MnO  \\\n",
       "0  4.736198  0.009329 -0.671236 -0.439794 -2.922204  2.626815 -2.034799   \n",
       "1  4.436094  0.270513 -0.781774  0.555023 -2.118590  1.352351 -0.943029   \n",
       "2  4.499810  0.792881  0.655222 -0.315442 -1.085373  0.559351 -1.934241   \n",
       "3  4.140865  1.628670 -0.008007 -0.827481 -0.798368  0.814244 -1.488914   \n",
       "4  4.081441  1.158539  1.760603  1.827804 -0.626165 -1.394827 -2.207183   \n",
       "\n",
       "      Al2O3      TiO2      V2O5  \n",
       "0 -1.869831 -2.451391 -1.341048  \n",
       "1  1.682121 -1.622410 -0.383367  \n",
       "2 -0.461660 -1.334069 -0.129743  \n",
       "3  1.408894 -0.901557  0.054895  \n",
       "4 -0.671835 -1.261984 -0.320468  "
      ]
     },
     "execution_count": 488,
     "metadata": {},
     "output_type": "execute_result"
    }
   ],
   "source": [
    "stddata.head()"
   ]
  },
  {
   "cell_type": "code",
   "execution_count": 76,
   "metadata": {
    "colab": {},
    "colab_type": "code",
    "id": "cEVKjoI53KJp"
   },
   "outputs": [],
   "source": [
    "act_list = ['sigmoid','tanh','softsign','softmax','relu','elu']\n",
    "opt_list = ['adam','RMSprop','Adadelta','SGD']"
   ]
  },
  {
   "cell_type": "code",
   "execution_count": 515,
   "metadata": {
    "colab": {},
    "colab_type": "code",
    "id": "mkdzkz9bz7SY"
   },
   "outputs": [],
   "source": [
    "def baseline_model(act,opt,nums):\n",
    "    model = Sequential()\n",
    "    model.add(Dense(nums, input_dim = 9, activation = act))\n",
    "    model.add(Dense(1, activation = 'linear'))\n",
    "    model.compile(loss='mse', optimizer = opt, metrics=['mse']) \n",
    "    return model"
   ]
  },
  {
   "cell_type": "code",
   "execution_count": 79,
   "metadata": {
    "colab": {},
    "colab_type": "code",
    "id": "_-Q_NDlAA7bt"
   },
   "outputs": [],
   "source": [
    "def generate_model():\n",
    "    model_list = []\n",
    "    for act in act_list:\n",
    "        for opt in opt_list:\n",
    "            model_list.append(baseline_model(act,opt,16))\n",
    "    return model_list"
   ]
  },
  {
   "cell_type": "code",
   "execution_count": 80,
   "metadata": {
    "colab": {},
    "colab_type": "code",
    "id": "CYDtO_WeBb6Q"
   },
   "outputs": [],
   "source": [
    "modelList = generate_model()"
   ]
  },
  {
   "cell_type": "code",
   "execution_count": 505,
   "metadata": {
    "colab": {},
    "colab_type": "code",
    "id": "XmALal98M-9R"
   },
   "outputs": [],
   "source": [
    "def cv(df,model):\n",
    "    kf = KFold(n_splits = 5, random_state = 10, shuffle = False)\n",
    "    splits = kf.split(df)\n",
    "    comparision_list = []\n",
    "    for train_index,test_index in splits:\n",
    "        X_train = df.loc[train_index,'Temp':'V2O5'].values\n",
    "        X_test = df.loc[test_index,'Temp':'V2O5'].values\n",
    "        y_train = df.loc[train_index,'lp'].values\n",
    "        y_test = df.loc[test_index,'lp'].values\n",
    "        model.fit(X_train, y_train, epochs = 150, batch_size = 20, validation_data = (X_test,y_test),verbose = 0)\n",
    "        prediction = model.predict(X_test).reshape(len(X_test),)\n",
    "        comparision = {'prediction':prediction,'truth':y_test}\n",
    "        comparision_list.append(comparision)\n",
    "    return comparision_list"
   ]
  },
  {
   "cell_type": "code",
   "execution_count": 506,
   "metadata": {
    "colab": {},
    "colab_type": "code",
    "id": "Q3RQCPLQBvz9"
   },
   "outputs": [],
   "source": [
    "def modelsearch(modelList,df):\n",
    "    result_list = [] \n",
    "    for model in modelList:\n",
    "        result = cv(df,model)\n",
    "        result_list.append(result)\n",
    "    return result_list"
   ]
  },
  {
   "cell_type": "code",
   "execution_count": 191,
   "metadata": {},
   "outputs": [],
   "source": [
    "def get_result(data):\n",
    "    R_list = []\n",
    "    RMSE_list = []\n",
    "    for model_index in range(len(data)):\n",
    "        rmse_list = []\n",
    "        r_list = []\n",
    "        for k in range(5):\n",
    "            pre = data[model_index][k]['prediction']\n",
    "            truth = data[model_index][k]['truth']\n",
    "            rmse = np.sqrt(sum((pre - truth)**2)/len(pre))\n",
    "            r = pearsonr(pre,truth)[0]\n",
    "            rmse_list.append(rmse)\n",
    "            r_list.append(r)\n",
    "        R_list.append(np.mean(r_list))\n",
    "        RMSE_list.append(np.mean(rmse_list))\n",
    "    return R_list, RMSE_list"
   ]
  },
  {
   "cell_type": "code",
   "execution_count": 192,
   "metadata": {},
   "outputs": [],
   "source": [
    "def get_namelist():\n",
    "    namelist = []\n",
    "    for act in act_list:\n",
    "        for opt in opt_list:\n",
    "            namelist.append(act +'-'+ opt)\n",
    "    return namelist"
   ]
  },
  {
   "cell_type": "code",
   "execution_count": 193,
   "metadata": {},
   "outputs": [
    {
     "data": {
      "text/plain": [
       "['sigmoid-adam',\n",
       " 'sigmoid-RMSprop',\n",
       " 'sigmoid-Adadelta',\n",
       " 'sigmoid-SGD',\n",
       " 'tanh-adam']"
      ]
     },
     "execution_count": 193,
     "metadata": {},
     "output_type": "execute_result"
    }
   ],
   "source": [
    "namelist = get_namelist()\n",
    "namelist[:5]"
   ]
  },
  {
   "cell_type": "code",
   "execution_count": 242,
   "metadata": {},
   "outputs": [],
   "source": [
    "def plot_result(data):\n",
    "    plt.figure(figsize = (9,9))\n",
    "    p1 = plt.barh(y = range(24), width = data[0], height = 0.35, label = 'R')\n",
    "    p2 = plt.barh(y = range(24), width = [0.3/i for i in data[1]], height = 0.35, label = '0.3/RMSE',left = data[0])\n",
    "    plt.xlim(0,0.95,0.1)\n",
    "    plt.yticks(range(24),(namelist))\n",
    "    plt.ylabel('model_name',fontsize = 14)\n",
    "    plt.legend()\n",
    "    plt.show()"
   ]
  },
  {
   "cell_type": "code",
   "execution_count": 270,
   "metadata": {},
   "outputs": [],
   "source": [
    "def cv_result(data):\n",
    "    rmse_list = []\n",
    "    r_list = []\n",
    "    for k in range(5):\n",
    "        pre = data[k]['prediction']\n",
    "        truth = data[k]['truth']\n",
    "        rmse = np.sqrt(sum((pre - truth)**2)/len(pre))\n",
    "        r = pearsonr(pre,truth)[0]\n",
    "        rmse_list.append(rmse)\n",
    "        r_list.append(r)\n",
    "    return np.mean(rmse_list), np.mean(r_list)"
   ]
  },
  {
   "cell_type": "markdown",
   "metadata": {},
   "source": [
    "### error histgram"
   ]
  },
  {
   "cell_type": "code",
   "execution_count": 471,
   "metadata": {},
   "outputs": [],
   "source": [
    "def get_error(data):\n",
    "    error = []\n",
    "    for k in range(5):\n",
    "        temp = []\n",
    "        temp = data[k]['prediction'] - data[k]['truth']\n",
    "        temp = temp.tolist()\n",
    "        error += temp\n",
    "    return error"
   ]
  }
 ],
 "metadata": {
  "accelerator": "GPU",
  "colab": {
   "collapsed_sections": [],
   "include_colab_link": true,
   "name": "Test regression.ipynb",
   "provenance": [],
   "toc_visible": true,
   "version": "0.3.2"
  },
  "kernelspec": {
   "display_name": "Python 3",
   "language": "python",
   "name": "python3"
  },
  "language_info": {
   "codemirror_mode": {
    "name": "ipython",
    "version": 3
   },
   "file_extension": ".py",
   "mimetype": "text/x-python",
   "name": "python",
   "nbconvert_exporter": "python",
   "pygments_lexer": "ipython3",
   "version": "3.7.3"
  }
 },
 "nbformat": 4,
 "nbformat_minor": 1
}

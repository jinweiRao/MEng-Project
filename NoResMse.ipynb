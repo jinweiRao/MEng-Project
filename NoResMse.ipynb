{
 "cells": [
  {
   "cell_type": "markdown",
   "metadata": {
    "colab_type": "text",
    "id": "view-in-github"
   },
   "source": [
    "<a href=\"https://colab.research.google.com/github/jinweiRao/MEng-Project/blob/master/Test_regression.ipynb\" target=\"_parent\"><img src=\"https://colab.research.google.com/assets/colab-badge.svg\" alt=\"Open In Colab\"/></a>"
   ]
  },
  {
   "cell_type": "code",
   "execution_count": 710,
   "metadata": {
    "colab": {
     "base_uri": "https://localhost:8080/",
     "height": 34
    },
    "colab_type": "code",
    "id": "I6Q_bTr0z7RO",
    "outputId": "20da54c8-c36a-4940-acaa-8cf376cef89a"
   },
   "outputs": [],
   "source": [
    "import tensorflow\n",
    "from tensorflow import keras\n",
    "from keras import backend as K\n",
    "from keras.optimizers import SGD, Adam, RMSprop\n",
    "from keras.layers import Dense,Activation,Input\n",
    "import numpy as np\n",
    "import pandas as pd\n",
    "from keras import Sequential\n",
    "from keras.wrappers.scikit_learn import KerasRegressor\n",
    "from sklearn.model_selection import cross_val_score\n",
    "from sklearn.model_selection import KFold\n",
    "from sklearn.model_selection import cross_val_predict\n",
    "import matplotlib.pyplot as plt\n",
    "from keras import optimizers, regularizers\n",
    "import seaborn as sns\n",
    "from keras import callbacks\n",
    "from scipy.stats.stats import pearsonr\n",
    "import random\n",
    "import matplotlib.pyplot\n",
    "from sklearn.cluster import KMeans\n",
    "from tqdm import tqdm\n",
    "from keras.callbacks import EarlyStopping\n",
    "from keras.callbacks import ModelCheckpoint\n",
    "from keras.models import load_model\n",
    "import h5py"
   ]
  },
  {
   "cell_type": "markdown",
   "metadata": {
    "colab_type": "text",
    "id": "KQM_larKz7RR"
   },
   "source": [
    "## Build baseline_model"
   ]
  },
  {
   "cell_type": "code",
   "execution_count": 524,
   "metadata": {
    "colab": {},
    "colab_type": "code",
    "id": "itNzWXQ0z7RS"
   },
   "outputs": [
    {
     "data": {
      "text/html": [
       "<div>\n",
       "<style scoped>\n",
       "    .dataframe tbody tr th:only-of-type {\n",
       "        vertical-align: middle;\n",
       "    }\n",
       "\n",
       "    .dataframe tbody tr th {\n",
       "        vertical-align: top;\n",
       "    }\n",
       "\n",
       "    .dataframe thead th {\n",
       "        text-align: right;\n",
       "    }\n",
       "</style>\n",
       "<table border=\"1\" class=\"dataframe\">\n",
       "  <thead>\n",
       "    <tr style=\"text-align: right;\">\n",
       "      <th></th>\n",
       "      <th>lp</th>\n",
       "      <th>Temp</th>\n",
       "      <th>CaO</th>\n",
       "      <th>MgO</th>\n",
       "      <th>SiO2</th>\n",
       "      <th>Fe_total</th>\n",
       "      <th>MnO</th>\n",
       "      <th>Al2O3</th>\n",
       "      <th>TiO2</th>\n",
       "      <th>V2O5</th>\n",
       "    </tr>\n",
       "  </thead>\n",
       "  <tbody>\n",
       "    <tr>\n",
       "      <th>0</th>\n",
       "      <td>4.736198</td>\n",
       "      <td>1649</td>\n",
       "      <td>40.0</td>\n",
       "      <td>8.63</td>\n",
       "      <td>7.8</td>\n",
       "      <td>27.5</td>\n",
       "      <td>3.38</td>\n",
       "      <td>0.91</td>\n",
       "      <td>0.45</td>\n",
       "      <td>1.473</td>\n",
       "    </tr>\n",
       "    <tr>\n",
       "      <th>1</th>\n",
       "      <td>4.436094</td>\n",
       "      <td>1654</td>\n",
       "      <td>39.6</td>\n",
       "      <td>9.99</td>\n",
       "      <td>9.2</td>\n",
       "      <td>23.0</td>\n",
       "      <td>4.14</td>\n",
       "      <td>2.60</td>\n",
       "      <td>0.68</td>\n",
       "      <td>1.945</td>\n",
       "    </tr>\n",
       "    <tr>\n",
       "      <th>2</th>\n",
       "      <td>4.499810</td>\n",
       "      <td>1664</td>\n",
       "      <td>44.8</td>\n",
       "      <td>8.80</td>\n",
       "      <td>11.0</td>\n",
       "      <td>20.2</td>\n",
       "      <td>3.45</td>\n",
       "      <td>1.58</td>\n",
       "      <td>0.76</td>\n",
       "      <td>2.070</td>\n",
       "    </tr>\n",
       "    <tr>\n",
       "      <th>3</th>\n",
       "      <td>4.140865</td>\n",
       "      <td>1680</td>\n",
       "      <td>42.4</td>\n",
       "      <td>8.10</td>\n",
       "      <td>11.5</td>\n",
       "      <td>21.1</td>\n",
       "      <td>3.76</td>\n",
       "      <td>2.47</td>\n",
       "      <td>0.88</td>\n",
       "      <td>2.161</td>\n",
       "    </tr>\n",
       "    <tr>\n",
       "      <th>4</th>\n",
       "      <td>4.081441</td>\n",
       "      <td>1671</td>\n",
       "      <td>48.8</td>\n",
       "      <td>11.73</td>\n",
       "      <td>11.8</td>\n",
       "      <td>13.3</td>\n",
       "      <td>3.26</td>\n",
       "      <td>1.48</td>\n",
       "      <td>0.78</td>\n",
       "      <td>1.976</td>\n",
       "    </tr>\n",
       "  </tbody>\n",
       "</table>\n",
       "</div>"
      ],
      "text/plain": [
       "         lp  Temp   CaO    MgO  SiO2  Fe_total   MnO  Al2O3  TiO2   V2O5\n",
       "0  4.736198  1649  40.0   8.63   7.8      27.5  3.38   0.91  0.45  1.473\n",
       "1  4.436094  1654  39.6   9.99   9.2      23.0  4.14   2.60  0.68  1.945\n",
       "2  4.499810  1664  44.8   8.80  11.0      20.2  3.45   1.58  0.76  2.070\n",
       "3  4.140865  1680  42.4   8.10  11.5      21.1  3.76   2.47  0.88  2.161\n",
       "4  4.081441  1671  48.8  11.73  11.8      13.3  3.26   1.48  0.78  1.976"
      ]
     },
     "execution_count": 524,
     "metadata": {},
     "output_type": "execute_result"
    }
   ],
   "source": [
    "data=pd.read_csv('plant_A.csv')\n",
    "data.head()"
   ]
  },
  {
   "cell_type": "code",
   "execution_count": 510,
   "metadata": {},
   "outputs": [],
   "source": [
    "trial_data = stddata.drop(['CaO'],axis =1).copy()"
   ]
  },
  {
   "cell_type": "code",
   "execution_count": 521,
   "metadata": {
    "colab": {},
    "colab_type": "code",
    "id": "3MqyGxMD7Ash"
   },
   "outputs": [],
   "source": [
    "def stdarize_data(data):\n",
    "    mean = data.describe().loc['mean'].values\n",
    "    std = data.describe().loc['std'].values\n",
    "    stddata = (data - mean)/std\n",
    "    return stddata"
   ]
  },
  {
   "cell_type": "code",
   "execution_count": 525,
   "metadata": {
    "colab": {},
    "colab_type": "code",
    "id": "s50iT6Af-IXB"
   },
   "outputs": [
    {
     "data": {
      "text/html": [
       "<div>\n",
       "<style scoped>\n",
       "    .dataframe tbody tr th:only-of-type {\n",
       "        vertical-align: middle;\n",
       "    }\n",
       "\n",
       "    .dataframe tbody tr th {\n",
       "        vertical-align: top;\n",
       "    }\n",
       "\n",
       "    .dataframe thead th {\n",
       "        text-align: right;\n",
       "    }\n",
       "</style>\n",
       "<table border=\"1\" class=\"dataframe\">\n",
       "  <thead>\n",
       "    <tr style=\"text-align: right;\">\n",
       "      <th></th>\n",
       "      <th>lp</th>\n",
       "      <th>Temp</th>\n",
       "      <th>CaO</th>\n",
       "      <th>MgO</th>\n",
       "      <th>SiO2</th>\n",
       "      <th>Fe_total</th>\n",
       "      <th>MnO</th>\n",
       "      <th>Al2O3</th>\n",
       "      <th>TiO2</th>\n",
       "      <th>V2O5</th>\n",
       "    </tr>\n",
       "  </thead>\n",
       "  <tbody>\n",
       "    <tr>\n",
       "      <th>0</th>\n",
       "      <td>4.736198</td>\n",
       "      <td>0.009329</td>\n",
       "      <td>-0.671236</td>\n",
       "      <td>-0.439794</td>\n",
       "      <td>-2.922204</td>\n",
       "      <td>2.626815</td>\n",
       "      <td>-2.034799</td>\n",
       "      <td>-1.869831</td>\n",
       "      <td>-2.451391</td>\n",
       "      <td>-1.341048</td>\n",
       "    </tr>\n",
       "    <tr>\n",
       "      <th>1</th>\n",
       "      <td>4.436094</td>\n",
       "      <td>0.270513</td>\n",
       "      <td>-0.781774</td>\n",
       "      <td>0.555023</td>\n",
       "      <td>-2.118590</td>\n",
       "      <td>1.352351</td>\n",
       "      <td>-0.943029</td>\n",
       "      <td>1.682121</td>\n",
       "      <td>-1.622410</td>\n",
       "      <td>-0.383367</td>\n",
       "    </tr>\n",
       "    <tr>\n",
       "      <th>2</th>\n",
       "      <td>4.499810</td>\n",
       "      <td>0.792881</td>\n",
       "      <td>0.655222</td>\n",
       "      <td>-0.315442</td>\n",
       "      <td>-1.085373</td>\n",
       "      <td>0.559351</td>\n",
       "      <td>-1.934241</td>\n",
       "      <td>-0.461660</td>\n",
       "      <td>-1.334069</td>\n",
       "      <td>-0.129743</td>\n",
       "    </tr>\n",
       "    <tr>\n",
       "      <th>3</th>\n",
       "      <td>4.140865</td>\n",
       "      <td>1.628670</td>\n",
       "      <td>-0.008007</td>\n",
       "      <td>-0.827481</td>\n",
       "      <td>-0.798368</td>\n",
       "      <td>0.814244</td>\n",
       "      <td>-1.488914</td>\n",
       "      <td>1.408894</td>\n",
       "      <td>-0.901557</td>\n",
       "      <td>0.054895</td>\n",
       "    </tr>\n",
       "    <tr>\n",
       "      <th>4</th>\n",
       "      <td>4.081441</td>\n",
       "      <td>1.158539</td>\n",
       "      <td>1.760603</td>\n",
       "      <td>1.827804</td>\n",
       "      <td>-0.626165</td>\n",
       "      <td>-1.394827</td>\n",
       "      <td>-2.207183</td>\n",
       "      <td>-0.671835</td>\n",
       "      <td>-1.261984</td>\n",
       "      <td>-0.320468</td>\n",
       "    </tr>\n",
       "  </tbody>\n",
       "</table>\n",
       "</div>"
      ],
      "text/plain": [
       "         lp      Temp       CaO       MgO      SiO2  Fe_total       MnO  \\\n",
       "0  4.736198  0.009329 -0.671236 -0.439794 -2.922204  2.626815 -2.034799   \n",
       "1  4.436094  0.270513 -0.781774  0.555023 -2.118590  1.352351 -0.943029   \n",
       "2  4.499810  0.792881  0.655222 -0.315442 -1.085373  0.559351 -1.934241   \n",
       "3  4.140865  1.628670 -0.008007 -0.827481 -0.798368  0.814244 -1.488914   \n",
       "4  4.081441  1.158539  1.760603  1.827804 -0.626165 -1.394827 -2.207183   \n",
       "\n",
       "      Al2O3      TiO2      V2O5  \n",
       "0 -1.869831 -2.451391 -1.341048  \n",
       "1  1.682121 -1.622410 -0.383367  \n",
       "2 -0.461660 -1.334069 -0.129743  \n",
       "3  1.408894 -0.901557  0.054895  \n",
       "4 -0.671835 -1.261984 -0.320468  "
      ]
     },
     "execution_count": 525,
     "metadata": {},
     "output_type": "execute_result"
    }
   ],
   "source": [
    "stddata = stdarize_data(data)\n",
    "stddata.loc[:,'lp'] = data.loc[:,'lp']\n",
    "stddata.head()"
   ]
  },
  {
   "cell_type": "code",
   "execution_count": null,
   "metadata": {},
   "outputs": [],
   "source": [
    "T1 = stddata.loc[stddata['Temp']<=0.24].copy()\n",
    "T2 = stddata.loc[stddata['Temp']>0.24].copy()\n",
    "S1 = T1.loc[T1['SiO2'] <= 0.47].reset_index().drop(['index'],axis = 1)\n",
    "S2 = T1.loc[T1['SiO2'] > 0.47].reset_index().drop(['index'],axis = 1)\n",
    "S3 = T2.loc[T2['SiO2'] <= 0.33].reset_index().drop(['index'],axis = 1)\n",
    "S4 = T2.loc[T2['SiO2'] > 0.33].reset_index().drop(['index'],axis = 1)\n",
    "M1 = S1.loc[S1['MgO'] <= 0.72].reset_index().drop(['index'],axis = 1)\n",
    "M2 = S1.loc[S1['MgO'] > 0.72].reset_index().drop(['index'],axis = 1)\n",
    "M3 = S2.loc[S2['MgO'] <= 0.81].reset_index().drop(['index'],axis = 1)\n",
    "M4 = S2.loc[S2['MgO'] > 0.81].reset_index().drop(['index'],axis = 1)\n",
    "M5 = S3.loc[S3['MgO'] <= 0.36].reset_index().drop(['index'],axis = 1)\n",
    "M6 = S3.loc[S3['MgO'] > 0.36].reset_index().drop(['index'],axis = 1)\n",
    "M7 = S4.loc[S4['MgO'] <= -0.17].reset_index().drop(['index'],axis = 1)\n",
    "M8 = S4.loc[S4['MgO'] > -0.17].reset_index().drop(['index'],axis = 1)"
   ]
  },
  {
   "cell_type": "code",
   "execution_count": 526,
   "metadata": {
    "colab": {},
    "colab_type": "code",
    "id": "cEVKjoI53KJp"
   },
   "outputs": [],
   "source": [
    "act_list = ['sigmoid','tanh','softsign','softmax','relu','elu']\n",
    "opt_list = ['adam','RMSprop','Adadelta','SGD']"
   ]
  },
  {
   "cell_type": "code",
   "execution_count": 527,
   "metadata": {
    "colab": {},
    "colab_type": "code",
    "id": "mkdzkz9bz7SY"
   },
   "outputs": [],
   "source": [
    "def baseline_model(act,opt,nums):\n",
    "    model = Sequential()\n",
    "    model.add(Dense(nums, input_dim = 9, activation = act))\n",
    "    model.add(Dense(1, activation = 'linear'))\n",
    "    model.compile(loss='mse', optimizer = opt, metrics=['mse']) \n",
    "    return model"
   ]
  },
  {
   "cell_type": "code",
   "execution_count": 528,
   "metadata": {
    "colab": {},
    "colab_type": "code",
    "id": "_-Q_NDlAA7bt"
   },
   "outputs": [],
   "source": [
    "def generate_model():\n",
    "    model_list = []\n",
    "    for act in act_list:\n",
    "        for opt in opt_list:\n",
    "            model_list.append(baseline_model(act,opt,16))\n",
    "    return model_list"
   ]
  },
  {
   "cell_type": "code",
   "execution_count": 529,
   "metadata": {
    "colab": {},
    "colab_type": "code",
    "id": "CYDtO_WeBb6Q"
   },
   "outputs": [],
   "source": [
    "modelList = generate_model()"
   ]
  },
  {
   "cell_type": "code",
   "execution_count": 770,
   "metadata": {
    "colab": {},
    "colab_type": "code",
    "id": "XmALal98M-9R"
   },
   "outputs": [],
   "source": [
    "def cv(df,model):\n",
    "    kf = KFold(n_splits = 5, random_state = 10, shuffle = False)\n",
    "    splits = kf.split(df)\n",
    "    comparision_list = []\n",
    "    for train_index,test_index in splits:\n",
    "        X_train = df.loc[train_index,'Temp':'V2O5'].values\n",
    "        X_test = df.loc[test_index,'Temp':'V2O5'].values\n",
    "        y_train = df.loc[train_index,'lp'].values\n",
    "        y_test = df.loc[test_index,'lp'].values\n",
    "        model.fit(X_train, y_train, epochs = 7, batch_size = 20, validation_data = (X_test,y_test),verbose = 0)\n",
    "        prediction = model.predict(X_test).reshape(len(X_test),)\n",
    "        comparision = {'prediction':prediction,'truth':y_test}\n",
    "        comparision_list.append(comparision)\n",
    "    return comparision_list"
   ]
  },
  {
   "cell_type": "code",
   "execution_count": 751,
   "metadata": {
    "colab": {},
    "colab_type": "code",
    "id": "Q3RQCPLQBvz9"
   },
   "outputs": [],
   "source": [
    "def modelsearch(modelList,df):\n",
    "    result_list = [] \n",
    "    for model in modelList:\n",
    "        result = cv(df,model)\n",
    "        result_list.append(result)\n",
    "    return result_list"
   ]
  },
  {
   "cell_type": "code",
   "execution_count": 735,
   "metadata": {},
   "outputs": [],
   "source": [
    "def get_result(data):\n",
    "    R_list = []\n",
    "    RMSE_list = []\n",
    "    for model_index in range(len(data)):\n",
    "        rmse_list = []\n",
    "        r_list = []\n",
    "        for k in range(5):\n",
    "            pre = data[model_index][k]['prediction']\n",
    "            truth = data[model_index][k]['truth']\n",
    "            rmse = np.sqrt(sum((pre - truth)**2)/len(pre))\n",
    "            r = pearsonr(pre,truth)[0]\n",
    "            rmse_list.append(rmse)\n",
    "            r_list.append(r)\n",
    "        R_list.append(np.mean(r_list))\n",
    "        RMSE_list.append(np.mean(rmse_list))\n",
    "    return R_list, RMSE_list"
   ]
  },
  {
   "cell_type": "code",
   "execution_count": 532,
   "metadata": {},
   "outputs": [],
   "source": [
    "def allsearch():\n",
    "    final_list = []\n",
    "    for df in tqdm([M1,M2,M3,M4,M5,M6,M7,M8]):\n",
    "        final = modelsearch(modelList,df)\n",
    "        final_list.append(final)\n",
    "    return final_list"
   ]
  },
  {
   "cell_type": "code",
   "execution_count": 533,
   "metadata": {},
   "outputs": [
    {
     "name": "stderr",
     "output_type": "stream",
     "text": [
      "\n",
      "\n",
      "\n",
      "\n",
      "\n",
      "\n",
      "  0%|          | 0/8 [00:00<?, ?it/s]\u001b[A\u001b[A\u001b[A\u001b[A\u001b[A\u001b[A\n",
      "\n",
      "\n",
      "\n",
      "\n",
      "\n",
      " 12%|█▎        | 1/8 [1:00:17<7:02:01, 3617.36s/it]\u001b[A\u001b[A\u001b[A\u001b[A\u001b[A\u001b[A\n",
      "\n",
      "\n",
      "\n",
      "\n",
      "\n",
      " 25%|██▌       | 2/8 [1:30:37<5:07:49, 3078.22s/it]\u001b[A\u001b[A\u001b[A\u001b[A\u001b[A\u001b[A\n",
      "\n",
      "\n",
      "\n",
      "\n",
      "\n",
      " 38%|███▊      | 3/8 [2:04:30<3:50:23, 2764.73s/it]\u001b[A\u001b[A\u001b[A\u001b[A\u001b[A\u001b[A\n",
      "\n",
      "\n",
      "\n",
      "\n",
      "\n",
      " 50%|█████     | 4/8 [2:10:33<2:16:16, 2044.03s/it]\u001b[A\u001b[A\u001b[A\u001b[A\u001b[A\u001b[A\n",
      "\n",
      "\n",
      "\n",
      "\n",
      "\n",
      " 62%|██████▎   | 5/8 [2:31:36<1:30:29, 1809.72s/it]\u001b[A\u001b[A\u001b[A\u001b[A\u001b[A\u001b[A\n",
      "\n",
      "\n",
      "\n",
      "\n",
      "\n",
      " 75%|███████▌  | 6/8 [2:45:08<50:20, 1510.35s/it]  \u001b[A\u001b[A\u001b[A\u001b[A\u001b[A\u001b[A\n",
      "\n",
      "\n",
      "\n",
      "\n",
      "\n",
      " 88%|████████▊ | 7/8 [3:05:50<23:49, 1429.98s/it]\u001b[A\u001b[A\u001b[A\u001b[A\u001b[A\u001b[A\n",
      "\n",
      "\n",
      "\n",
      "\n",
      "\n",
      "100%|██████████| 8/8 [3:27:59<00:00, 1399.73s/it]\u001b[A\u001b[A\u001b[A\u001b[A\u001b[A\u001b[A"
     ]
    }
   ],
   "source": [
    "M1_result,M2_result,M3_result,M4_result,M5_result,M6_result,M7_result,M8_result = allsearch()"
   ]
  },
  {
   "cell_type": "code",
   "execution_count": 545,
   "metadata": {},
   "outputs": [],
   "source": [
    "def get_namelist():\n",
    "    namelist = []\n",
    "    for act in act_list:\n",
    "        for opt in opt_list:\n",
    "            namelist.append(act +'-'+ opt)\n",
    "    return namelist"
   ]
  },
  {
   "cell_type": "code",
   "execution_count": 546,
   "metadata": {},
   "outputs": [
    {
     "data": {
      "text/plain": [
       "['sigmoid-adam',\n",
       " 'sigmoid-RMSprop',\n",
       " 'sigmoid-Adadelta',\n",
       " 'sigmoid-SGD',\n",
       " 'tanh-adam']"
      ]
     },
     "execution_count": 546,
     "metadata": {},
     "output_type": "execute_result"
    }
   ],
   "source": [
    "namelist = get_namelist()\n",
    "namelist[:5]"
   ]
  },
  {
   "cell_type": "code",
   "execution_count": 556,
   "metadata": {},
   "outputs": [],
   "source": [
    "M1_final = get_result(M1_result)\n",
    "M2_final = get_result(M2_result)\n",
    "M3_final = get_result(M3_result)\n",
    "M4_final = get_result(M4_result)\n",
    "M5_final = get_result(M5_result)\n",
    "M6_final = get_result(M6_result)\n",
    "M7_final = get_result(M7_result)\n",
    "M8_final = get_result(M8_result)"
   ]
  },
  {
   "cell_type": "code",
   "execution_count": 557,
   "metadata": {},
   "outputs": [],
   "source": [
    "def plot_result(data):\n",
    "    plt.figure(figsize = (9,9))\n",
    "    p1 = plt.barh(y = range(24), width = data[0], height = 0.35, label = 'R')\n",
    "    p2 = plt.barh(y = range(24), width = [0.1/i for i in data[1]], height = 0.35, label = '0.1/RMSE',left = data[0])\n",
    "    plt.xlim(0,0.95,0.1)\n",
    "    plt.yticks(range(24),(namelist))\n",
    "    plt.ylabel('model_name',fontsize = 14)\n",
    "    plt.legend()\n",
    "    plt.show()"
   ]
  },
  {
   "cell_type": "code",
   "execution_count": 558,
   "metadata": {},
   "outputs": [
    {
     "data": {
      "image/png": "[encoded data removed]",
      "text/plain": [
       "<Figure size 648x648 with 1 Axes>"
      ]
     },
     "metadata": {
      "needs_background": "light"
     },
     "output_type": "display_data"
    }
   ],
   "source": [
    "plot_result(M1_final)"
   ]
  },
  {
   "cell_type": "code",
   "execution_count": 548,
   "metadata": {},
   "outputs": [],
   "source": [
    "def cv_result(data):\n",
    "    rmse_list = []\n",
    "    r_list = []\n",
    "    for k in range(5):\n",
    "        pre = data[k]['prediction']\n",
    "        truth = data[k]['truth']\n",
    "        rmse = np.sqrt(sum((pre - truth)**2)/len(pre))\n",
    "        r = pearsonr(pre,truth)[0]\n",
    "        rmse_list.append(rmse)\n",
    "        r_list.append(r)\n",
    "    return np.mean(rmse_list), np.mean(r_list)"
   ]
  },
  {
   "cell_type": "markdown",
   "metadata": {},
   "source": [
    "### error histgram"
   ]
  },
  {
   "cell_type": "code",
   "execution_count": 549,
   "metadata": {},
   "outputs": [],
   "source": [
    "def get_error(data):\n",
    "    error = []\n",
    "    for k in range(5):\n",
    "        temp = []\n",
    "        temp = data[k]['prediction'] - data[k]['truth']\n",
    "        temp = temp.tolist()\n",
    "        error += temp\n",
    "    return error"
   ]
  },
  {
   "cell_type": "code",
   "execution_count": 561,
   "metadata": {},
   "outputs": [
    {
     "data": {
      "text/plain": [
       "4.4192307692307695"
      ]
     },
     "execution_count": 561,
     "metadata": {},
     "output_type": "execute_result"
    }
   ],
   "source": [
    "383/13000*150"
   ]
  },
  {
   "cell_type": "code",
   "execution_count": 771,
   "metadata": {},
   "outputs": [],
   "source": [
    "test = modelsearch(modelList,M1)"
   ]
  },
  {
   "cell_type": "code",
   "execution_count": 772,
   "metadata": {},
   "outputs": [],
   "source": [
    "test_result = get_result(test)"
   ]
  },
  {
   "cell_type": "code",
   "execution_count": 773,
   "metadata": {
    "scrolled": true
   },
   "outputs": [
    {
     "data": {
      "text/plain": [
       "([0.3839612029832502,\n",
       "  0.3848085066707654,\n",
       "  0.39629350703120375,\n",
       "  0.4080017355604146,\n",
       "  0.3689899909007751,\n",
       "  0.3830762103415989,\n",
       "  0.379586349107751,\n",
       "  0.39562898273311065,\n",
       "  0.37721128552727873,\n",
       "  0.389477507265059,\n",
       "  0.38671284404660855,\n",
       "  0.39863487537044157,\n",
       "  0.37054290061092937,\n",
       "  0.35895252195667016,\n",
       "  0.38607611876606596,\n",
       "  0.41526233424752207,\n",
       "  0.38643047976006695,\n",
       "  0.3750568781164481,\n",
       "  0.37951774468858707,\n",
       "  0.3955070668212561,\n",
       "  0.3842195843945152,\n",
       "  0.38397862269975386,\n",
       "  0.3817768310053759,\n",
       "  0.38553137754677114],\n",
       " [0.2761317565232064,\n",
       "  0.27582556584270534,\n",
       "  0.2736274721004662,\n",
       "  0.27237229301968846,\n",
       "  0.2776408688802142,\n",
       "  0.276445855427127,\n",
       "  0.27715495120742906,\n",
       "  0.2734360861678498,\n",
       "  0.2773865541498781,\n",
       "  0.2743913256473651,\n",
       "  0.27665735005981174,\n",
       "  0.2747175232717602,\n",
       "  0.277212543466704,\n",
       "  0.27780972237157747,\n",
       "  0.27471940414122886,\n",
       "  0.27025582546349475,\n",
       "  0.2747056008424463,\n",
       "  0.27708647897485056,\n",
       "  0.28012869406759244,\n",
       "  0.2783808250348633,\n",
       "  0.2787654985410043,\n",
       "  0.27677447696906327,\n",
       "  0.27814278058228054,\n",
       "  0.2792462410426602])"
      ]
     },
     "execution_count": 773,
     "metadata": {},
     "output_type": "execute_result"
    }
   ],
   "source": [
    "test_result "
   ]
  },
  {
   "cell_type": "code",
   "execution_count": 774,
   "metadata": {},
   "outputs": [],
   "source": [
    "tru = test[1][0]['truth']\n",
    "pre = test[1][0]['prediction']"
   ]
  },
  {
   "cell_type": "code",
   "execution_count": 775,
   "metadata": {},
   "outputs": [
    {
     "data": {
      "image/png": "[encoded data removed]",
      "text/plain": [
       "<Figure size 648x648 with 1 Axes>"
      ]
     },
     "metadata": {
      "needs_background": "light"
     },
     "output_type": "display_data"
    }
   ],
   "source": [
    "plot_result(test_result)"
   ]
  },
  {
   "cell_type": "code",
   "execution_count": 776,
   "metadata": {},
   "outputs": [
    {
     "data": {
      "text/plain": [
       "[<matplotlib.lines.Line2D at 0x1a70cc2e80>]"
      ]
     },
     "execution_count": 776,
     "metadata": {},
     "output_type": "execute_result"
    },
    {
     "data": {
      "image/png": "[encoded data removed]",
      "text/plain": [
       "<Figure size 432x288 with 1 Axes>"
      ]
     },
     "metadata": {
      "needs_background": "light"
     },
     "output_type": "display_data"
    }
   ],
   "source": [
    "plt.scatter(x = tru, y = pre)\n",
    "plt.ylim(3,5.5)\n",
    "\n",
    "plt.xlim(3,5.5)\n",
    "\n",
    "plt.plot([3,5.5],[3,5.5],color = 'red')"
   ]
  },
  {
   "cell_type": "code",
   "execution_count": 657,
   "metadata": {},
   "outputs": [],
   "source": [
    "def test_baseline():\n",
    "    model = Sequential()\n",
    "    model.add(Dense(16, input_dim = 9, activation = 'tanh'))\n",
    "    model.add(Dense(1, activation = 'linear'))\n",
    "    model.compile(loss='mse', optimizer = 'RMSprop', metrics=['mse']) \n",
    "    return model"
   ]
  },
  {
   "cell_type": "code",
   "execution_count": 787,
   "metadata": {},
   "outputs": [],
   "source": [
    "testModel = test_baseline()"
   ]
  },
  {
   "cell_type": "code",
   "execution_count": 783,
   "metadata": {},
   "outputs": [
    {
     "data": {
      "text/plain": [
       "4103"
      ]
     },
     "execution_count": 783,
     "metadata": {},
     "output_type": "execute_result"
    }
   ],
   "source": [
    "len(M1)"
   ]
  },
  {
   "cell_type": "code",
   "execution_count": 784,
   "metadata": {},
   "outputs": [],
   "source": [
    "X_train,X_test = M1.loc[:,'Temp':'V2O5'][:3500], M1.loc[:,'Temp':'V2O5'][3500:]\n",
    "y_train,y_test = M1.loc[:,'lp'][:3500],M1.loc[:,'lp'][3500:]"
   ]
  },
  {
   "cell_type": "code",
   "execution_count": 785,
   "metadata": {},
   "outputs": [],
   "source": [
    "es = EarlyStopping(monitor='val_loss', mode='min', verbose=1, patience = 50)\n",
    "mc = ModelCheckpoint('bestModel.h5', monitor='val_mean_squared_error', mode='min', verbose=1, save_best_only = True)"
   ]
  },
  {
   "cell_type": "code",
   "execution_count": 797,
   "metadata": {},
   "outputs": [
    {
     "name": "stdout",
     "output_type": "stream",
     "text": [
      "Train on 3500 samples, validate on 603 samples\n",
      "Epoch 1/150\n",
      "3500/3500 [==============================] - 2s 634us/step - loss: 11.1973 - mean_squared_error: 11.1973 - val_loss: 7.8212 - val_mean_squared_error: 7.8212\n",
      "\n",
      "Epoch 00001: val_mean_squared_error did not improve from 0.06673\n",
      "Epoch 2/150\n",
      "3500/3500 [==============================] - 0s 81us/step - loss: 1.9302 - mean_squared_error: 1.9302 - val_loss: 1.1153 - val_mean_squared_error: 1.1153\n",
      "\n",
      "Epoch 00002: val_mean_squared_error did not improve from 0.06673\n",
      "Epoch 3/150\n",
      "3500/3500 [==============================] - 0s 81us/step - loss: 0.4213 - mean_squared_error: 0.4213 - val_loss: 0.3590 - val_mean_squared_error: 0.3590\n",
      "\n",
      "Epoch 00003: val_mean_squared_error did not improve from 0.06673\n",
      "Epoch 4/150\n",
      "3500/3500 [==============================] - 0s 78us/step - loss: 0.1963 - mean_squared_error: 0.1963 - val_loss: 0.1846 - val_mean_squared_error: 0.1846\n",
      "\n",
      "Epoch 00004: val_mean_squared_error did not improve from 0.06673\n",
      "Epoch 5/150\n",
      "3500/3500 [==============================] - 0s 84us/step - loss: 0.1146 - mean_squared_error: 0.1146 - val_loss: 0.1384 - val_mean_squared_error: 0.1384\n",
      "\n",
      "Epoch 00005: val_mean_squared_error did not improve from 0.06673\n",
      "Epoch 6/150\n",
      "3500/3500 [==============================] - 0s 82us/step - loss: 0.0945 - mean_squared_error: 0.0945 - val_loss: 0.1193 - val_mean_squared_error: 0.1193\n",
      "\n",
      "Epoch 00006: val_mean_squared_error did not improve from 0.06673\n",
      "Epoch 7/150\n",
      "3500/3500 [==============================] - 0s 84us/step - loss: 0.0887 - mean_squared_error: 0.0887 - val_loss: 0.0997 - val_mean_squared_error: 0.0997\n",
      "\n",
      "Epoch 00007: val_mean_squared_error did not improve from 0.06673\n",
      "Epoch 8/150\n",
      "3500/3500 [==============================] - 0s 82us/step - loss: 0.0857 - mean_squared_error: 0.0857 - val_loss: 0.0951 - val_mean_squared_error: 0.0951\n",
      "\n",
      "Epoch 00008: val_mean_squared_error did not improve from 0.06673\n",
      "Epoch 9/150\n",
      "3500/3500 [==============================] - 0s 91us/step - loss: 0.0830 - mean_squared_error: 0.0830 - val_loss: 0.0879 - val_mean_squared_error: 0.0879\n",
      "\n",
      "Epoch 00009: val_mean_squared_error did not improve from 0.06673\n",
      "Epoch 10/150\n",
      "3500/3500 [==============================] - 0s 88us/step - loss: 0.0820 - mean_squared_error: 0.0820 - val_loss: 0.0910 - val_mean_squared_error: 0.0910\n",
      "\n",
      "Epoch 00010: val_mean_squared_error did not improve from 0.06673\n",
      "Epoch 11/150\n",
      "3500/3500 [==============================] - 0s 80us/step - loss: 0.0805 - mean_squared_error: 0.0805 - val_loss: 0.0844 - val_mean_squared_error: 0.0844\n",
      "\n",
      "Epoch 00011: val_mean_squared_error did not improve from 0.06673\n",
      "Epoch 12/150\n",
      "3500/3500 [==============================] - 0s 99us/step - loss: 0.0796 - mean_squared_error: 0.0796 - val_loss: 0.0841 - val_mean_squared_error: 0.0841\n",
      "\n",
      "Epoch 00012: val_mean_squared_error did not improve from 0.06673\n",
      "Epoch 13/150\n",
      "3500/3500 [==============================] - 0s 106us/step - loss: 0.0789 - mean_squared_error: 0.0789 - val_loss: 0.0812 - val_mean_squared_error: 0.0812\n",
      "\n",
      "Epoch 00013: val_mean_squared_error did not improve from 0.06673\n",
      "Epoch 14/150\n",
      "3500/3500 [==============================] - 0s 94us/step - loss: 0.0787 - mean_squared_error: 0.0787 - val_loss: 0.0784 - val_mean_squared_error: 0.0784\n",
      "\n",
      "Epoch 00014: val_mean_squared_error did not improve from 0.06673\n",
      "Epoch 15/150\n",
      "3500/3500 [==============================] - 0s 107us/step - loss: 0.0780 - mean_squared_error: 0.0780 - val_loss: 0.0781 - val_mean_squared_error: 0.0781\n",
      "\n",
      "Epoch 00015: val_mean_squared_error did not improve from 0.06673\n",
      "Epoch 16/150\n",
      "3500/3500 [==============================] - 0s 110us/step - loss: 0.0777 - mean_squared_error: 0.0777 - val_loss: 0.0778 - val_mean_squared_error: 0.0778\n",
      "\n",
      "Epoch 00016: val_mean_squared_error did not improve from 0.06673\n",
      "Epoch 17/150\n",
      "3500/3500 [==============================] - 0s 112us/step - loss: 0.0773 - mean_squared_error: 0.0773 - val_loss: 0.0772 - val_mean_squared_error: 0.0772\n",
      "\n",
      "Epoch 00017: val_mean_squared_error did not improve from 0.06673\n",
      "Epoch 18/150\n",
      "3500/3500 [==============================] - 0s 112us/step - loss: 0.0771 - mean_squared_error: 0.0771 - val_loss: 0.0760 - val_mean_squared_error: 0.0760\n",
      "\n",
      "Epoch 00018: val_mean_squared_error did not improve from 0.06673\n",
      "Epoch 19/150\n",
      "3500/3500 [==============================] - 0s 108us/step - loss: 0.0764 - mean_squared_error: 0.0764 - val_loss: 0.0745 - val_mean_squared_error: 0.0745\n",
      "\n",
      "Epoch 00019: val_mean_squared_error did not improve from 0.06673\n",
      "Epoch 20/150\n",
      "3500/3500 [==============================] - 0s 84us/step - loss: 0.0763 - mean_squared_error: 0.0763 - val_loss: 0.0761 - val_mean_squared_error: 0.0761\n",
      "\n",
      "Epoch 00020: val_mean_squared_error did not improve from 0.06673\n",
      "Epoch 21/150\n",
      "3500/3500 [==============================] - 0s 90us/step - loss: 0.0765 - mean_squared_error: 0.0765 - val_loss: 0.0754 - val_mean_squared_error: 0.0754\n",
      "\n",
      "Epoch 00021: val_mean_squared_error did not improve from 0.06673\n",
      "Epoch 22/150\n",
      "3500/3500 [==============================] - 0s 91us/step - loss: 0.0762 - mean_squared_error: 0.0762 - val_loss: 0.0747 - val_mean_squared_error: 0.0747\n",
      "\n",
      "Epoch 00022: val_mean_squared_error did not improve from 0.06673\n",
      "Epoch 23/150\n",
      "3500/3500 [==============================] - 0s 77us/step - loss: 0.0758 - mean_squared_error: 0.0758 - val_loss: 0.0774 - val_mean_squared_error: 0.0774\n",
      "\n",
      "Epoch 00023: val_mean_squared_error did not improve from 0.06673\n",
      "Epoch 24/150\n",
      "3500/3500 [==============================] - 0s 76us/step - loss: 0.0753 - mean_squared_error: 0.0753 - val_loss: 0.0748 - val_mean_squared_error: 0.0748\n",
      "\n",
      "Epoch 00024: val_mean_squared_error did not improve from 0.06673\n",
      "Epoch 25/150\n",
      "3500/3500 [==============================] - 0s 126us/step - loss: 0.0756 - mean_squared_error: 0.0756 - val_loss: 0.0770 - val_mean_squared_error: 0.0770\n",
      "\n",
      "Epoch 00025: val_mean_squared_error did not improve from 0.06673\n",
      "Epoch 26/150\n",
      "3500/3500 [==============================] - 0s 100us/step - loss: 0.0756 - mean_squared_error: 0.0756 - val_loss: 0.0727 - val_mean_squared_error: 0.0727\n",
      "\n",
      "Epoch 00026: val_mean_squared_error did not improve from 0.06673\n",
      "Epoch 27/150\n",
      "3500/3500 [==============================] - 0s 94us/step - loss: 0.0752 - mean_squared_error: 0.0752 - val_loss: 0.0738 - val_mean_squared_error: 0.0738\n",
      "\n",
      "Epoch 00027: val_mean_squared_error did not improve from 0.06673\n",
      "Epoch 28/150\n",
      "3500/3500 [==============================] - 0s 109us/step - loss: 0.0752 - mean_squared_error: 0.0752 - val_loss: 0.0746 - val_mean_squared_error: 0.0746\n",
      "\n",
      "Epoch 00028: val_mean_squared_error did not improve from 0.06673\n",
      "Epoch 29/150\n",
      "3500/3500 [==============================] - 0s 103us/step - loss: 0.0754 - mean_squared_error: 0.0754 - val_loss: 0.0753 - val_mean_squared_error: 0.0753\n",
      "\n",
      "Epoch 00029: val_mean_squared_error did not improve from 0.06673\n",
      "Epoch 30/150\n",
      "3500/3500 [==============================] - 0s 106us/step - loss: 0.0750 - mean_squared_error: 0.0750 - val_loss: 0.0725 - val_mean_squared_error: 0.0725\n",
      "\n",
      "Epoch 00030: val_mean_squared_error did not improve from 0.06673\n",
      "Epoch 31/150\n",
      "3500/3500 [==============================] - 0s 118us/step - loss: 0.0751 - mean_squared_error: 0.0751 - val_loss: 0.0716 - val_mean_squared_error: 0.0716\n",
      "\n",
      "Epoch 00031: val_mean_squared_error did not improve from 0.06673\n",
      "Epoch 32/150\n",
      "3500/3500 [==============================] - 0s 96us/step - loss: 0.0749 - mean_squared_error: 0.0749 - val_loss: 0.0713 - val_mean_squared_error: 0.0713\n",
      "\n",
      "Epoch 00032: val_mean_squared_error did not improve from 0.06673\n",
      "Epoch 33/150\n",
      "3500/3500 [==============================] - 0s 101us/step - loss: 0.0748 - mean_squared_error: 0.0748 - val_loss: 0.0740 - val_mean_squared_error: 0.0740\n",
      "\n",
      "Epoch 00033: val_mean_squared_error did not improve from 0.06673\n",
      "Epoch 34/150\n",
      "3500/3500 [==============================] - 0s 90us/step - loss: 0.0747 - mean_squared_error: 0.0747 - val_loss: 0.0724 - val_mean_squared_error: 0.0724\n",
      "\n",
      "Epoch 00034: val_mean_squared_error did not improve from 0.06673\n",
      "Epoch 35/150\n",
      "3500/3500 [==============================] - 0s 87us/step - loss: 0.0745 - mean_squared_error: 0.0745 - val_loss: 0.0719 - val_mean_squared_error: 0.0719\n",
      "\n",
      "Epoch 00035: val_mean_squared_error did not improve from 0.06673\n",
      "Epoch 36/150\n"
     ]
    },
    {
     "name": "stdout",
     "output_type": "stream",
     "text": [
      "3500/3500 [==============================] - 0s 87us/step - loss: 0.0745 - mean_squared_error: 0.0745 - val_loss: 0.0716 - val_mean_squared_error: 0.0716\n",
      "\n",
      "Epoch 00036: val_mean_squared_error did not improve from 0.06673\n",
      "Epoch 37/150\n",
      "3500/3500 [==============================] - 0s 77us/step - loss: 0.0746 - mean_squared_error: 0.0746 - val_loss: 0.0725 - val_mean_squared_error: 0.0725\n",
      "\n",
      "Epoch 00037: val_mean_squared_error did not improve from 0.06673\n",
      "Epoch 38/150\n",
      "3500/3500 [==============================] - 0s 81us/step - loss: 0.0742 - mean_squared_error: 0.0742 - val_loss: 0.0709 - val_mean_squared_error: 0.0709\n",
      "\n",
      "Epoch 00038: val_mean_squared_error did not improve from 0.06673\n",
      "Epoch 39/150\n",
      "3500/3500 [==============================] - 0s 80us/step - loss: 0.0745 - mean_squared_error: 0.0745 - val_loss: 0.0728 - val_mean_squared_error: 0.0728\n",
      "\n",
      "Epoch 00039: val_mean_squared_error did not improve from 0.06673\n",
      "Epoch 40/150\n",
      "3500/3500 [==============================] - 0s 81us/step - loss: 0.0742 - mean_squared_error: 0.0742 - val_loss: 0.0704 - val_mean_squared_error: 0.0704\n",
      "\n",
      "Epoch 00040: val_mean_squared_error did not improve from 0.06673\n",
      "Epoch 41/150\n",
      "3500/3500 [==============================] - 0s 81us/step - loss: 0.0743 - mean_squared_error: 0.0743 - val_loss: 0.0703 - val_mean_squared_error: 0.0703\n",
      "\n",
      "Epoch 00041: val_mean_squared_error did not improve from 0.06673\n",
      "Epoch 42/150\n",
      "3500/3500 [==============================] - 0s 87us/step - loss: 0.0742 - mean_squared_error: 0.0742 - val_loss: 0.0703 - val_mean_squared_error: 0.0703\n",
      "\n",
      "Epoch 00042: val_mean_squared_error did not improve from 0.06673\n",
      "Epoch 43/150\n",
      "3500/3500 [==============================] - 0s 93us/step - loss: 0.0742 - mean_squared_error: 0.0742 - val_loss: 0.0709 - val_mean_squared_error: 0.0709\n",
      "\n",
      "Epoch 00043: val_mean_squared_error did not improve from 0.06673\n",
      "Epoch 44/150\n",
      "3500/3500 [==============================] - 0s 100us/step - loss: 0.0741 - mean_squared_error: 0.0741 - val_loss: 0.0721 - val_mean_squared_error: 0.0721\n",
      "\n",
      "Epoch 00044: val_mean_squared_error did not improve from 0.06673\n",
      "Epoch 45/150\n",
      "3500/3500 [==============================] - 0s 99us/step - loss: 0.0742 - mean_squared_error: 0.0742 - val_loss: 0.0697 - val_mean_squared_error: 0.0697\n",
      "\n",
      "Epoch 00045: val_mean_squared_error did not improve from 0.06673\n",
      "Epoch 46/150\n",
      "3500/3500 [==============================] - 0s 98us/step - loss: 0.0736 - mean_squared_error: 0.0736 - val_loss: 0.0708 - val_mean_squared_error: 0.0708\n",
      "\n",
      "Epoch 00046: val_mean_squared_error did not improve from 0.06673\n",
      "Epoch 47/150\n",
      "3500/3500 [==============================] - 0s 104us/step - loss: 0.0739 - mean_squared_error: 0.0739 - val_loss: 0.0705 - val_mean_squared_error: 0.0705\n",
      "\n",
      "Epoch 00047: val_mean_squared_error did not improve from 0.06673\n",
      "Epoch 48/150\n",
      "3500/3500 [==============================] - 0s 90us/step - loss: 0.0739 - mean_squared_error: 0.0739 - val_loss: 0.0699 - val_mean_squared_error: 0.0699\n",
      "\n",
      "Epoch 00048: val_mean_squared_error did not improve from 0.06673\n",
      "Epoch 49/150\n",
      "3500/3500 [==============================] - 0s 95us/step - loss: 0.0738 - mean_squared_error: 0.0738 - val_loss: 0.0703 - val_mean_squared_error: 0.0703\n",
      "\n",
      "Epoch 00049: val_mean_squared_error did not improve from 0.06673\n",
      "Epoch 50/150\n",
      "3500/3500 [==============================] - 0s 95us/step - loss: 0.0739 - mean_squared_error: 0.0739 - val_loss: 0.0700 - val_mean_squared_error: 0.0700\n",
      "\n",
      "Epoch 00050: val_mean_squared_error did not improve from 0.06673\n",
      "Epoch 51/150\n",
      "3500/3500 [==============================] - 0s 100us/step - loss: 0.0737 - mean_squared_error: 0.0737 - val_loss: 0.0723 - val_mean_squared_error: 0.0723\n",
      "\n",
      "Epoch 00051: val_mean_squared_error did not improve from 0.06673\n",
      "Epoch 52/150\n",
      "3500/3500 [==============================] - 0s 97us/step - loss: 0.0738 - mean_squared_error: 0.0738 - val_loss: 0.0702 - val_mean_squared_error: 0.0702\n",
      "\n",
      "Epoch 00052: val_mean_squared_error did not improve from 0.06673\n",
      "Epoch 53/150\n",
      "3500/3500 [==============================] - 0s 105us/step - loss: 0.0732 - mean_squared_error: 0.0732 - val_loss: 0.0704 - val_mean_squared_error: 0.0704\n",
      "\n",
      "Epoch 00053: val_mean_squared_error did not improve from 0.06673\n",
      "Epoch 54/150\n",
      "3500/3500 [==============================] - 0s 97us/step - loss: 0.0737 - mean_squared_error: 0.0737 - val_loss: 0.0721 - val_mean_squared_error: 0.0721\n",
      "\n",
      "Epoch 00054: val_mean_squared_error did not improve from 0.06673\n",
      "Epoch 55/150\n",
      "3500/3500 [==============================] - 0s 103us/step - loss: 0.0736 - mean_squared_error: 0.0736 - val_loss: 0.0695 - val_mean_squared_error: 0.0695\n",
      "\n",
      "Epoch 00055: val_mean_squared_error did not improve from 0.06673\n",
      "Epoch 56/150\n",
      "3500/3500 [==============================] - 0s 103us/step - loss: 0.0734 - mean_squared_error: 0.0734 - val_loss: 0.0691 - val_mean_squared_error: 0.0691\n",
      "\n",
      "Epoch 00056: val_mean_squared_error did not improve from 0.06673\n",
      "Epoch 57/150\n",
      "3500/3500 [==============================] - 0s 98us/step - loss: 0.0733 - mean_squared_error: 0.0733 - val_loss: 0.0700 - val_mean_squared_error: 0.0700\n",
      "\n",
      "Epoch 00057: val_mean_squared_error did not improve from 0.06673\n",
      "Epoch 58/150\n",
      "3500/3500 [==============================] - 0s 88us/step - loss: 0.0738 - mean_squared_error: 0.0738 - val_loss: 0.0741 - val_mean_squared_error: 0.0741\n",
      "\n",
      "Epoch 00058: val_mean_squared_error did not improve from 0.06673\n",
      "Epoch 59/150\n",
      "3500/3500 [==============================] - 0s 104us/step - loss: 0.0737 - mean_squared_error: 0.0737 - val_loss: 0.0700 - val_mean_squared_error: 0.0700\n",
      "\n",
      "Epoch 00059: val_mean_squared_error did not improve from 0.06673\n",
      "Epoch 60/150\n",
      "3500/3500 [==============================] - 0s 102us/step - loss: 0.0739 - mean_squared_error: 0.0739 - val_loss: 0.0699 - val_mean_squared_error: 0.0699\n",
      "\n",
      "Epoch 00060: val_mean_squared_error did not improve from 0.06673\n",
      "Epoch 61/150\n",
      "3500/3500 [==============================] - 0s 102us/step - loss: 0.0734 - mean_squared_error: 0.0734 - val_loss: 0.0714 - val_mean_squared_error: 0.0714\n",
      "\n",
      "Epoch 00061: val_mean_squared_error did not improve from 0.06673\n",
      "Epoch 62/150\n",
      "3500/3500 [==============================] - 0s 92us/step - loss: 0.0737 - mean_squared_error: 0.0737 - val_loss: 0.0699 - val_mean_squared_error: 0.0699\n",
      "\n",
      "Epoch 00062: val_mean_squared_error did not improve from 0.06673\n",
      "Epoch 63/150\n",
      "3500/3500 [==============================] - 0s 102us/step - loss: 0.0735 - mean_squared_error: 0.0735 - val_loss: 0.0716 - val_mean_squared_error: 0.0716\n",
      "\n",
      "Epoch 00063: val_mean_squared_error did not improve from 0.06673\n",
      "Epoch 64/150\n",
      "3500/3500 [==============================] - 0s 103us/step - loss: 0.0733 - mean_squared_error: 0.0733 - val_loss: 0.0695 - val_mean_squared_error: 0.0695\n",
      "\n",
      "Epoch 00064: val_mean_squared_error did not improve from 0.06673\n",
      "Epoch 65/150\n",
      "3500/3500 [==============================] - 0s 106us/step - loss: 0.0735 - mean_squared_error: 0.0735 - val_loss: 0.0719 - val_mean_squared_error: 0.0719\n",
      "\n",
      "Epoch 00065: val_mean_squared_error did not improve from 0.06673\n",
      "Epoch 66/150\n",
      "3500/3500 [==============================] - 0s 97us/step - loss: 0.0736 - mean_squared_error: 0.0736 - val_loss: 0.0702 - val_mean_squared_error: 0.0702\n",
      "\n",
      "Epoch 00066: val_mean_squared_error did not improve from 0.06673\n",
      "Epoch 67/150\n",
      "3500/3500 [==============================] - 0s 81us/step - loss: 0.0734 - mean_squared_error: 0.0734 - val_loss: 0.0697 - val_mean_squared_error: 0.0697\n",
      "\n",
      "Epoch 00067: val_mean_squared_error did not improve from 0.06673\n",
      "Epoch 68/150\n",
      "3500/3500 [==============================] - 0s 104us/step - loss: 0.0730 - mean_squared_error: 0.0730 - val_loss: 0.0710 - val_mean_squared_error: 0.0710\n",
      "\n",
      "Epoch 00068: val_mean_squared_error did not improve from 0.06673\n",
      "Epoch 69/150\n",
      "3500/3500 [==============================] - 0s 92us/step - loss: 0.0734 - mean_squared_error: 0.0734 - val_loss: 0.0723 - val_mean_squared_error: 0.0723\n",
      "\n",
      "Epoch 00069: val_mean_squared_error did not improve from 0.06673\n",
      "Epoch 70/150\n",
      "3500/3500 [==============================] - 0s 110us/step - loss: 0.0733 - mean_squared_error: 0.0733 - val_loss: 0.0694 - val_mean_squared_error: 0.0694\n",
      "\n",
      "Epoch 00070: val_mean_squared_error did not improve from 0.06673\n",
      "Epoch 71/150\n"
     ]
    },
    {
     "name": "stdout",
     "output_type": "stream",
     "text": [
      "3500/3500 [==============================] - 0s 98us/step - loss: 0.0733 - mean_squared_error: 0.0733 - val_loss: 0.0712 - val_mean_squared_error: 0.0712\n",
      "\n",
      "Epoch 00071: val_mean_squared_error did not improve from 0.06673\n",
      "Epoch 72/150\n",
      "3500/3500 [==============================] - 0s 99us/step - loss: 0.0734 - mean_squared_error: 0.0734 - val_loss: 0.0707 - val_mean_squared_error: 0.0707\n",
      "\n",
      "Epoch 00072: val_mean_squared_error did not improve from 0.06673\n",
      "Epoch 73/150\n",
      "3500/3500 [==============================] - 0s 105us/step - loss: 0.0732 - mean_squared_error: 0.0732 - val_loss: 0.0698 - val_mean_squared_error: 0.0698\n",
      "\n",
      "Epoch 00073: val_mean_squared_error did not improve from 0.06673\n",
      "Epoch 74/150\n",
      "3500/3500 [==============================] - 0s 100us/step - loss: 0.0731 - mean_squared_error: 0.0731 - val_loss: 0.0708 - val_mean_squared_error: 0.0708\n",
      "\n",
      "Epoch 00074: val_mean_squared_error did not improve from 0.06673\n",
      "Epoch 75/150\n",
      "3500/3500 [==============================] - 0s 92us/step - loss: 0.0733 - mean_squared_error: 0.0733 - val_loss: 0.0702 - val_mean_squared_error: 0.0702\n",
      "\n",
      "Epoch 00075: val_mean_squared_error did not improve from 0.06673\n",
      "Epoch 76/150\n",
      "3500/3500 [==============================] - 0s 96us/step - loss: 0.0732 - mean_squared_error: 0.0732 - val_loss: 0.0697 - val_mean_squared_error: 0.0697\n",
      "\n",
      "Epoch 00076: val_mean_squared_error did not improve from 0.06673\n",
      "Epoch 77/150\n",
      "3500/3500 [==============================] - 0s 88us/step - loss: 0.0734 - mean_squared_error: 0.0734 - val_loss: 0.0713 - val_mean_squared_error: 0.0713\n",
      "\n",
      "Epoch 00077: val_mean_squared_error did not improve from 0.06673\n",
      "Epoch 78/150\n",
      "3500/3500 [==============================] - 0s 98us/step - loss: 0.0733 - mean_squared_error: 0.0733 - val_loss: 0.0706 - val_mean_squared_error: 0.0706\n",
      "\n",
      "Epoch 00078: val_mean_squared_error did not improve from 0.06673\n",
      "Epoch 79/150\n",
      "3500/3500 [==============================] - 0s 91us/step - loss: 0.0730 - mean_squared_error: 0.0730 - val_loss: 0.0701 - val_mean_squared_error: 0.0701\n",
      "\n",
      "Epoch 00079: val_mean_squared_error did not improve from 0.06673\n",
      "Epoch 80/150\n",
      "3500/3500 [==============================] - 0s 101us/step - loss: 0.0732 - mean_squared_error: 0.0732 - val_loss: 0.0710 - val_mean_squared_error: 0.0710\n",
      "\n",
      "Epoch 00080: val_mean_squared_error did not improve from 0.06673\n",
      "Epoch 81/150\n",
      "3500/3500 [==============================] - 0s 99us/step - loss: 0.0732 - mean_squared_error: 0.0732 - val_loss: 0.0697 - val_mean_squared_error: 0.0697\n",
      "\n",
      "Epoch 00081: val_mean_squared_error did not improve from 0.06673\n",
      "Epoch 82/150\n",
      "3500/3500 [==============================] - 0s 99us/step - loss: 0.0728 - mean_squared_error: 0.0728 - val_loss: 0.0710 - val_mean_squared_error: 0.0710\n",
      "\n",
      "Epoch 00082: val_mean_squared_error did not improve from 0.06673\n",
      "Epoch 83/150\n",
      "3500/3500 [==============================] - 0s 105us/step - loss: 0.0731 - mean_squared_error: 0.0731 - val_loss: 0.0709 - val_mean_squared_error: 0.0709\n",
      "\n",
      "Epoch 00083: val_mean_squared_error did not improve from 0.06673\n",
      "Epoch 84/150\n",
      "3500/3500 [==============================] - 0s 87us/step - loss: 0.0733 - mean_squared_error: 0.0733 - val_loss: 0.0695 - val_mean_squared_error: 0.0695\n",
      "\n",
      "Epoch 00084: val_mean_squared_error did not improve from 0.06673\n",
      "Epoch 85/150\n",
      "3500/3500 [==============================] - 0s 82us/step - loss: 0.0731 - mean_squared_error: 0.0731 - val_loss: 0.0716 - val_mean_squared_error: 0.0716\n",
      "\n",
      "Epoch 00085: val_mean_squared_error did not improve from 0.06673\n",
      "Epoch 86/150\n",
      "3500/3500 [==============================] - 0s 91us/step - loss: 0.0729 - mean_squared_error: 0.0729 - val_loss: 0.0706 - val_mean_squared_error: 0.0706\n",
      "\n",
      "Epoch 00086: val_mean_squared_error did not improve from 0.06673\n",
      "Epoch 87/150\n",
      "3500/3500 [==============================] - 0s 83us/step - loss: 0.0729 - mean_squared_error: 0.0729 - val_loss: 0.0689 - val_mean_squared_error: 0.0689\n",
      "\n",
      "Epoch 00087: val_mean_squared_error did not improve from 0.06673\n",
      "Epoch 88/150\n",
      "3500/3500 [==============================] - 0s 98us/step - loss: 0.0726 - mean_squared_error: 0.0726 - val_loss: 0.0704 - val_mean_squared_error: 0.0704\n",
      "\n",
      "Epoch 00088: val_mean_squared_error did not improve from 0.06673\n",
      "Epoch 89/150\n",
      "3500/3500 [==============================] - 0s 106us/step - loss: 0.0729 - mean_squared_error: 0.0729 - val_loss: 0.0705 - val_mean_squared_error: 0.0705\n",
      "\n",
      "Epoch 00089: val_mean_squared_error did not improve from 0.06673\n",
      "Epoch 90/150\n",
      "3500/3500 [==============================] - 0s 110us/step - loss: 0.0731 - mean_squared_error: 0.0731 - val_loss: 0.0702 - val_mean_squared_error: 0.0702\n",
      "\n",
      "Epoch 00090: val_mean_squared_error did not improve from 0.06673\n",
      "Epoch 91/150\n",
      "3500/3500 [==============================] - 0s 94us/step - loss: 0.0728 - mean_squared_error: 0.0728 - val_loss: 0.0696 - val_mean_squared_error: 0.0696\n",
      "\n",
      "Epoch 00091: val_mean_squared_error did not improve from 0.06673\n",
      "Epoch 92/150\n",
      "3500/3500 [==============================] - 0s 99us/step - loss: 0.0730 - mean_squared_error: 0.0730 - val_loss: 0.0709 - val_mean_squared_error: 0.0709\n",
      "\n",
      "Epoch 00092: val_mean_squared_error did not improve from 0.06673\n",
      "Epoch 93/150\n",
      "3500/3500 [==============================] - 0s 88us/step - loss: 0.0730 - mean_squared_error: 0.0730 - val_loss: 0.0693 - val_mean_squared_error: 0.0693\n",
      "\n",
      "Epoch 00093: val_mean_squared_error did not improve from 0.06673\n",
      "Epoch 94/150\n",
      "3500/3500 [==============================] - 0s 87us/step - loss: 0.0730 - mean_squared_error: 0.0730 - val_loss: 0.0706 - val_mean_squared_error: 0.0706\n",
      "\n",
      "Epoch 00094: val_mean_squared_error did not improve from 0.06673\n",
      "Epoch 95/150\n",
      "3500/3500 [==============================] - 0s 92us/step - loss: 0.0730 - mean_squared_error: 0.0730 - val_loss: 0.0694 - val_mean_squared_error: 0.0694\n",
      "\n",
      "Epoch 00095: val_mean_squared_error did not improve from 0.06673\n",
      "Epoch 96/150\n",
      "3500/3500 [==============================] - 0s 85us/step - loss: 0.0728 - mean_squared_error: 0.0728 - val_loss: 0.0692 - val_mean_squared_error: 0.0692\n",
      "\n",
      "Epoch 00096: val_mean_squared_error did not improve from 0.06673\n",
      "Epoch 97/150\n",
      "3500/3500 [==============================] - 0s 81us/step - loss: 0.0729 - mean_squared_error: 0.0729 - val_loss: 0.0696 - val_mean_squared_error: 0.0696\n",
      "\n",
      "Epoch 00097: val_mean_squared_error did not improve from 0.06673\n",
      "Epoch 98/150\n",
      "3500/3500 [==============================] - 0s 86us/step - loss: 0.0729 - mean_squared_error: 0.0729 - val_loss: 0.0705 - val_mean_squared_error: 0.0705\n",
      "\n",
      "Epoch 00098: val_mean_squared_error did not improve from 0.06673\n",
      "Epoch 99/150\n",
      "3500/3500 [==============================] - 0s 89us/step - loss: 0.0730 - mean_squared_error: 0.0730 - val_loss: 0.0699 - val_mean_squared_error: 0.0699\n",
      "\n",
      "Epoch 00099: val_mean_squared_error did not improve from 0.06673\n",
      "Epoch 100/150\n",
      "3500/3500 [==============================] - 0s 84us/step - loss: 0.0731 - mean_squared_error: 0.0731 - val_loss: 0.0701 - val_mean_squared_error: 0.0701\n",
      "\n",
      "Epoch 00100: val_mean_squared_error did not improve from 0.06673\n",
      "Epoch 101/150\n",
      "3500/3500 [==============================] - 0s 83us/step - loss: 0.0730 - mean_squared_error: 0.0730 - val_loss: 0.0696 - val_mean_squared_error: 0.0696\n",
      "\n",
      "Epoch 00101: val_mean_squared_error did not improve from 0.06673\n",
      "Epoch 102/150\n",
      "3500/3500 [==============================] - 0s 87us/step - loss: 0.0730 - mean_squared_error: 0.0730 - val_loss: 0.0706 - val_mean_squared_error: 0.0706\n",
      "\n",
      "Epoch 00102: val_mean_squared_error did not improve from 0.06673\n",
      "Epoch 103/150\n",
      "3500/3500 [==============================] - 0s 83us/step - loss: 0.0727 - mean_squared_error: 0.0727 - val_loss: 0.0705 - val_mean_squared_error: 0.0705\n",
      "\n",
      "Epoch 00103: val_mean_squared_error did not improve from 0.06673\n",
      "Epoch 104/150\n",
      "3500/3500 [==============================] - 0s 86us/step - loss: 0.0728 - mean_squared_error: 0.0728 - val_loss: 0.0693 - val_mean_squared_error: 0.0693\n",
      "\n",
      "Epoch 00104: val_mean_squared_error did not improve from 0.06673\n",
      "Epoch 105/150\n",
      "3500/3500 [==============================] - 0s 86us/step - loss: 0.0729 - mean_squared_error: 0.0729 - val_loss: 0.0725 - val_mean_squared_error: 0.0725\n",
      "\n",
      "Epoch 00105: val_mean_squared_error did not improve from 0.06673\n",
      "Epoch 106/150\n"
     ]
    },
    {
     "name": "stdout",
     "output_type": "stream",
     "text": [
      "3500/3500 [==============================] - 0s 84us/step - loss: 0.0730 - mean_squared_error: 0.0730 - val_loss: 0.0696 - val_mean_squared_error: 0.0696\n",
      "\n",
      "Epoch 00106: val_mean_squared_error did not improve from 0.06673\n",
      "Epoch 107/150\n",
      "3500/3500 [==============================] - 0s 77us/step - loss: 0.0729 - mean_squared_error: 0.0729 - val_loss: 0.0693 - val_mean_squared_error: 0.0693\n",
      "\n",
      "Epoch 00107: val_mean_squared_error did not improve from 0.06673\n",
      "Epoch 108/150\n",
      "3500/3500 [==============================] - 0s 80us/step - loss: 0.0729 - mean_squared_error: 0.0729 - val_loss: 0.0708 - val_mean_squared_error: 0.0708\n",
      "\n",
      "Epoch 00108: val_mean_squared_error did not improve from 0.06673\n",
      "Epoch 109/150\n",
      "3500/3500 [==============================] - 0s 80us/step - loss: 0.0729 - mean_squared_error: 0.0729 - val_loss: 0.0713 - val_mean_squared_error: 0.0713\n",
      "\n",
      "Epoch 00109: val_mean_squared_error did not improve from 0.06673\n",
      "Epoch 110/150\n",
      "3500/3500 [==============================] - 0s 80us/step - loss: 0.0727 - mean_squared_error: 0.0727 - val_loss: 0.0712 - val_mean_squared_error: 0.0712\n",
      "\n",
      "Epoch 00110: val_mean_squared_error did not improve from 0.06673\n",
      "Epoch 111/150\n",
      "3500/3500 [==============================] - 0s 78us/step - loss: 0.0729 - mean_squared_error: 0.0729 - val_loss: 0.0714 - val_mean_squared_error: 0.0714\n",
      "\n",
      "Epoch 00111: val_mean_squared_error did not improve from 0.06673\n",
      "Epoch 112/150\n",
      "3500/3500 [==============================] - 0s 81us/step - loss: 0.0727 - mean_squared_error: 0.0727 - val_loss: 0.0706 - val_mean_squared_error: 0.0706\n",
      "\n",
      "Epoch 00112: val_mean_squared_error did not improve from 0.06673\n",
      "Epoch 113/150\n",
      "3500/3500 [==============================] - 0s 80us/step - loss: 0.0727 - mean_squared_error: 0.0727 - val_loss: 0.0709 - val_mean_squared_error: 0.0709\n",
      "\n",
      "Epoch 00113: val_mean_squared_error did not improve from 0.06673\n",
      "Epoch 114/150\n",
      "3500/3500 [==============================] - 0s 79us/step - loss: 0.0728 - mean_squared_error: 0.0728 - val_loss: 0.0700 - val_mean_squared_error: 0.0700\n",
      "\n",
      "Epoch 00114: val_mean_squared_error did not improve from 0.06673\n",
      "Epoch 115/150\n",
      "3500/3500 [==============================] - 0s 81us/step - loss: 0.0726 - mean_squared_error: 0.0726 - val_loss: 0.0704 - val_mean_squared_error: 0.0704\n",
      "\n",
      "Epoch 00115: val_mean_squared_error did not improve from 0.06673\n",
      "Epoch 116/150\n",
      "3500/3500 [==============================] - 0s 82us/step - loss: 0.0725 - mean_squared_error: 0.0725 - val_loss: 0.0705 - val_mean_squared_error: 0.0705\n",
      "\n",
      "Epoch 00116: val_mean_squared_error did not improve from 0.06673\n",
      "Epoch 117/150\n",
      "3500/3500 [==============================] - 0s 81us/step - loss: 0.0728 - mean_squared_error: 0.0728 - val_loss: 0.0699 - val_mean_squared_error: 0.0699\n",
      "\n",
      "Epoch 00117: val_mean_squared_error did not improve from 0.06673\n",
      "Epoch 118/150\n",
      "3500/3500 [==============================] - 0s 81us/step - loss: 0.0728 - mean_squared_error: 0.0728 - val_loss: 0.0700 - val_mean_squared_error: 0.0700\n",
      "\n",
      "Epoch 00118: val_mean_squared_error did not improve from 0.06673\n",
      "Epoch 119/150\n",
      "3500/3500 [==============================] - 0s 81us/step - loss: 0.0728 - mean_squared_error: 0.0728 - val_loss: 0.0717 - val_mean_squared_error: 0.0717\n",
      "\n",
      "Epoch 00119: val_mean_squared_error did not improve from 0.06673\n",
      "Epoch 120/150\n",
      "3500/3500 [==============================] - 0s 80us/step - loss: 0.0726 - mean_squared_error: 0.0726 - val_loss: 0.0711 - val_mean_squared_error: 0.0711\n",
      "\n",
      "Epoch 00120: val_mean_squared_error did not improve from 0.06673\n",
      "Epoch 121/150\n",
      "3500/3500 [==============================] - 0s 81us/step - loss: 0.0726 - mean_squared_error: 0.0726 - val_loss: 0.0708 - val_mean_squared_error: 0.0708\n",
      "\n",
      "Epoch 00121: val_mean_squared_error did not improve from 0.06673\n",
      "Epoch 122/150\n",
      "3500/3500 [==============================] - 0s 83us/step - loss: 0.0727 - mean_squared_error: 0.0727 - val_loss: 0.0702 - val_mean_squared_error: 0.0702\n",
      "\n",
      "Epoch 00122: val_mean_squared_error did not improve from 0.06673\n",
      "Epoch 123/150\n",
      "3500/3500 [==============================] - 0s 82us/step - loss: 0.0727 - mean_squared_error: 0.0727 - val_loss: 0.0710 - val_mean_squared_error: 0.0710\n",
      "\n",
      "Epoch 00123: val_mean_squared_error did not improve from 0.06673\n",
      "Epoch 124/150\n",
      "3500/3500 [==============================] - 0s 81us/step - loss: 0.0726 - mean_squared_error: 0.0726 - val_loss: 0.0711 - val_mean_squared_error: 0.0711\n",
      "\n",
      "Epoch 00124: val_mean_squared_error did not improve from 0.06673\n",
      "Epoch 125/150\n",
      "3500/3500 [==============================] - 0s 85us/step - loss: 0.0728 - mean_squared_error: 0.0728 - val_loss: 0.0705 - val_mean_squared_error: 0.0705\n",
      "\n",
      "Epoch 00125: val_mean_squared_error did not improve from 0.06673\n",
      "Epoch 126/150\n",
      "3500/3500 [==============================] - 0s 82us/step - loss: 0.0724 - mean_squared_error: 0.0724 - val_loss: 0.0710 - val_mean_squared_error: 0.0710\n",
      "\n",
      "Epoch 00126: val_mean_squared_error did not improve from 0.06673\n",
      "Epoch 127/150\n",
      "3500/3500 [==============================] - 0s 84us/step - loss: 0.0723 - mean_squared_error: 0.0723 - val_loss: 0.0716 - val_mean_squared_error: 0.0716\n",
      "\n",
      "Epoch 00127: val_mean_squared_error did not improve from 0.06673\n",
      "Epoch 128/150\n",
      "3500/3500 [==============================] - 0s 79us/step - loss: 0.0729 - mean_squared_error: 0.0729 - val_loss: 0.0701 - val_mean_squared_error: 0.0701\n",
      "\n",
      "Epoch 00128: val_mean_squared_error did not improve from 0.06673\n",
      "Epoch 129/150\n",
      "3500/3500 [==============================] - 0s 82us/step - loss: 0.0727 - mean_squared_error: 0.0727 - val_loss: 0.0705 - val_mean_squared_error: 0.0705\n",
      "\n",
      "Epoch 00129: val_mean_squared_error did not improve from 0.06673\n",
      "Epoch 130/150\n",
      "3500/3500 [==============================] - 0s 81us/step - loss: 0.0728 - mean_squared_error: 0.0728 - val_loss: 0.0701 - val_mean_squared_error: 0.0701\n",
      "\n",
      "Epoch 00130: val_mean_squared_error did not improve from 0.06673\n",
      "Epoch 131/150\n",
      "3500/3500 [==============================] - 0s 80us/step - loss: 0.0725 - mean_squared_error: 0.0725 - val_loss: 0.0718 - val_mean_squared_error: 0.0718\n",
      "\n",
      "Epoch 00131: val_mean_squared_error did not improve from 0.06673\n",
      "Epoch 132/150\n",
      "3500/3500 [==============================] - 0s 82us/step - loss: 0.0728 - mean_squared_error: 0.0728 - val_loss: 0.0696 - val_mean_squared_error: 0.0696\n",
      "\n",
      "Epoch 00132: val_mean_squared_error did not improve from 0.06673\n",
      "Epoch 133/150\n",
      "3500/3500 [==============================] - 0s 84us/step - loss: 0.0725 - mean_squared_error: 0.0725 - val_loss: 0.0702 - val_mean_squared_error: 0.0702\n",
      "\n",
      "Epoch 00133: val_mean_squared_error did not improve from 0.06673\n",
      "Epoch 134/150\n",
      "3500/3500 [==============================] - 0s 84us/step - loss: 0.0726 - mean_squared_error: 0.0726 - val_loss: 0.0705 - val_mean_squared_error: 0.0705\n",
      "\n",
      "Epoch 00134: val_mean_squared_error did not improve from 0.06673\n",
      "Epoch 135/150\n",
      "3500/3500 [==============================] - 0s 83us/step - loss: 0.0725 - mean_squared_error: 0.0725 - val_loss: 0.0698 - val_mean_squared_error: 0.0698\n",
      "\n",
      "Epoch 00135: val_mean_squared_error did not improve from 0.06673\n",
      "Epoch 136/150\n",
      "3500/3500 [==============================] - 0s 79us/step - loss: 0.0724 - mean_squared_error: 0.0724 - val_loss: 0.0704 - val_mean_squared_error: 0.0704\n",
      "\n",
      "Epoch 00136: val_mean_squared_error did not improve from 0.06673\n",
      "Epoch 137/150\n",
      "3500/3500 [==============================] - 0s 83us/step - loss: 0.0727 - mean_squared_error: 0.0727 - val_loss: 0.0710 - val_mean_squared_error: 0.0710\n",
      "\n",
      "Epoch 00137: val_mean_squared_error did not improve from 0.06673\n",
      "Epoch 00137: early stopping\n"
     ]
    }
   ],
   "source": [
    "testModel = test_baseline()\n",
    "hist = testModel.fit(X_train,y_train, epochs = 150, batch_size = 20, validation_data = (X_test,y_test),verbose = 1,\n",
    "                    callbacks = [es,mc])"
   ]
  },
  {
   "cell_type": "code",
   "execution_count": 704,
   "metadata": {},
   "outputs": [],
   "source": [
    "saved_model = load_model('best_model.h5')"
   ]
  },
  {
   "cell_type": "code",
   "execution_count": 705,
   "metadata": {},
   "outputs": [
    {
     "name": "stdout",
     "output_type": "stream",
     "text": [
      "Train: 0.074, Test: 0.088\n"
     ]
    }
   ],
   "source": [
    "_, train_acc = saved_model.evaluate(X_train, y_train, verbose=0)\n",
    "_, test_acc = saved_model.evaluate(X_test, y_test, verbose=0)\n",
    "print('Train: %.3f, Test: %.3f' % (train_acc, test_acc))"
   ]
  },
  {
   "cell_type": "code",
   "execution_count": 796,
   "metadata": {},
   "outputs": [
    {
     "data": {
      "text/plain": [
       "[<matplotlib.lines.Line2D at 0x1a6fa71f98>]"
      ]
     },
     "execution_count": 796,
     "metadata": {},
     "output_type": "execute_result"
    },
    {
     "data": {
      "image/png": "[encoded data removed]",
      "text/plain": [
       "<Figure size 432x288 with 1 Axes>"
      ]
     },
     "metadata": {
      "needs_background": "light"
     },
     "output_type": "display_data"
    }
   ],
   "source": [
    "plt.plot(hist.history['mean_squared_error'][5:600])\n",
    "plt.plot(hist.history['val_mean_squared_error'][5:600])"
   ]
  },
  {
   "cell_type": "code",
   "execution_count": null,
   "metadata": {},
   "outputs": [],
   "source": []
  }
 ],
 "metadata": {
  "accelerator": "GPU",
  "colab": {
   "collapsed_sections": [],
   "include_colab_link": true,
   "name": "Test regression.ipynb",
   "provenance": [],
   "toc_visible": true,
   "version": "0.3.2"
  },
  "kernelspec": {
   "display_name": "Python 3",
   "language": "python",
   "name": "python3"
  },
  "language_info": {
   "codemirror_mode": {
    "name": "ipython",
    "version": 3
   },
   "file_extension": ".py",
   "mimetype": "text/x-python",
   "name": "python",
   "nbconvert_exporter": "python",
   "pygments_lexer": "ipython3",
   "version": "3.7.3"
  }
 },
 "nbformat": 4,
 "nbformat_minor": 1
}

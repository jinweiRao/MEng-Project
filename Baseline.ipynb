{
 "cells": [
  {
   "cell_type": "markdown",
   "metadata": {
    "colab_type": "text",
    "id": "view-in-github"
   },
   "source": [
    "<a href=\"https://colab.research.google.com/github/jinweiRao/MEng-Project/blob/master/Test_regression.ipynb\" target=\"_parent\"><img src=\"https://colab.research.google.com/assets/colab-badge.svg\" alt=\"Open In Colab\"/></a>"
   ]
  },
  {
   "cell_type": "code",
   "execution_count": 17,
   "metadata": {
    "colab": {
     "base_uri": "https://localhost:8080/",
     "height": 34
    },
    "colab_type": "code",
    "id": "I6Q_bTr0z7RO",
    "outputId": "20da54c8-c36a-4940-acaa-8cf376cef89a"
   },
   "outputs": [],
   "source": [
    "import tensorflow\n",
    "from tensorflow import keras\n",
    "from keras import backend as K\n",
    "from keras.optimizers import SGD, Adam,RMSprop\n",
    "from keras.layers import Dense,Activation,Input\n",
    "import numpy as np\n",
    "import pandas as pd\n",
    "from keras import Sequential\n",
    "from keras.wrappers.scikit_learn import KerasRegressor\n",
    "from sklearn.model_selection import cross_val_score\n",
    "from sklearn.model_selection import KFold\n",
    "from sklearn.model_selection import cross_val_predict\n",
    "import matplotlib.pyplot as plt\n",
    "from keras import optimizers, regularizers\n",
    "import seaborn as sns\n",
    "from keras import callbacks\n",
    "from scipy.stats.stats import pearsonr\n",
    "import random\n",
    "import matplotlib.pyplot\n",
    "from sklearn.cluster import KMeans\n",
    "from sklearn import tree\n",
    "from tqdm import tqdm"
   ]
  },
  {
   "cell_type": "markdown",
   "metadata": {
    "colab_type": "text",
    "id": "KQM_larKz7RR"
   },
   "source": [
    "## Build baseline_model"
   ]
  },
  {
   "cell_type": "code",
   "execution_count": 18,
   "metadata": {
    "colab": {},
    "colab_type": "code",
    "id": "itNzWXQ0z7RS"
   },
   "outputs": [
    {
     "data": {
      "text/html": [
       "<div>\n",
       "<style scoped>\n",
       "    .dataframe tbody tr th:only-of-type {\n",
       "        vertical-align: middle;\n",
       "    }\n",
       "\n",
       "    .dataframe tbody tr th {\n",
       "        vertical-align: top;\n",
       "    }\n",
       "\n",
       "    .dataframe thead th {\n",
       "        text-align: right;\n",
       "    }\n",
       "</style>\n",
       "<table border=\"1\" class=\"dataframe\">\n",
       "  <thead>\n",
       "    <tr style=\"text-align: right;\">\n",
       "      <th></th>\n",
       "      <th>lp</th>\n",
       "      <th>Temp</th>\n",
       "      <th>CaO</th>\n",
       "      <th>MgO</th>\n",
       "      <th>SiO2</th>\n",
       "      <th>Fe_total</th>\n",
       "      <th>MnO</th>\n",
       "      <th>Al2O3</th>\n",
       "      <th>TiO2</th>\n",
       "      <th>V2O5</th>\n",
       "    </tr>\n",
       "  </thead>\n",
       "  <tbody>\n",
       "    <tr>\n",
       "      <th>0</th>\n",
       "      <td>4.736198</td>\n",
       "      <td>1649</td>\n",
       "      <td>40.0</td>\n",
       "      <td>8.63</td>\n",
       "      <td>7.8</td>\n",
       "      <td>27.5</td>\n",
       "      <td>3.38</td>\n",
       "      <td>0.91</td>\n",
       "      <td>0.45</td>\n",
       "      <td>1.473</td>\n",
       "    </tr>\n",
       "    <tr>\n",
       "      <th>1</th>\n",
       "      <td>4.436094</td>\n",
       "      <td>1654</td>\n",
       "      <td>39.6</td>\n",
       "      <td>9.99</td>\n",
       "      <td>9.2</td>\n",
       "      <td>23.0</td>\n",
       "      <td>4.14</td>\n",
       "      <td>2.60</td>\n",
       "      <td>0.68</td>\n",
       "      <td>1.945</td>\n",
       "    </tr>\n",
       "    <tr>\n",
       "      <th>2</th>\n",
       "      <td>4.499810</td>\n",
       "      <td>1664</td>\n",
       "      <td>44.8</td>\n",
       "      <td>8.80</td>\n",
       "      <td>11.0</td>\n",
       "      <td>20.2</td>\n",
       "      <td>3.45</td>\n",
       "      <td>1.58</td>\n",
       "      <td>0.76</td>\n",
       "      <td>2.070</td>\n",
       "    </tr>\n",
       "    <tr>\n",
       "      <th>3</th>\n",
       "      <td>4.140865</td>\n",
       "      <td>1680</td>\n",
       "      <td>42.4</td>\n",
       "      <td>8.10</td>\n",
       "      <td>11.5</td>\n",
       "      <td>21.1</td>\n",
       "      <td>3.76</td>\n",
       "      <td>2.47</td>\n",
       "      <td>0.88</td>\n",
       "      <td>2.161</td>\n",
       "    </tr>\n",
       "    <tr>\n",
       "      <th>4</th>\n",
       "      <td>4.081441</td>\n",
       "      <td>1671</td>\n",
       "      <td>48.8</td>\n",
       "      <td>11.73</td>\n",
       "      <td>11.8</td>\n",
       "      <td>13.3</td>\n",
       "      <td>3.26</td>\n",
       "      <td>1.48</td>\n",
       "      <td>0.78</td>\n",
       "      <td>1.976</td>\n",
       "    </tr>\n",
       "  </tbody>\n",
       "</table>\n",
       "</div>"
      ],
      "text/plain": [
       "         lp  Temp   CaO    MgO  SiO2  Fe_total   MnO  Al2O3  TiO2   V2O5\n",
       "0  4.736198  1649  40.0   8.63   7.8      27.5  3.38   0.91  0.45  1.473\n",
       "1  4.436094  1654  39.6   9.99   9.2      23.0  4.14   2.60  0.68  1.945\n",
       "2  4.499810  1664  44.8   8.80  11.0      20.2  3.45   1.58  0.76  2.070\n",
       "3  4.140865  1680  42.4   8.10  11.5      21.1  3.76   2.47  0.88  2.161\n",
       "4  4.081441  1671  48.8  11.73  11.8      13.3  3.26   1.48  0.78  1.976"
      ]
     },
     "execution_count": 18,
     "metadata": {},
     "output_type": "execute_result"
    }
   ],
   "source": [
    "data=pd.read_csv('plant_A.csv')\n",
    "data.head()"
   ]
  },
  {
   "cell_type": "code",
   "execution_count": 19,
   "metadata": {},
   "outputs": [],
   "source": [
    "trial_data = stddata.drop(['CaO'],axis =1).copy()"
   ]
  },
  {
   "cell_type": "code",
   "execution_count": 20,
   "metadata": {
    "colab": {},
    "colab_type": "code",
    "id": "3MqyGxMD7Ash"
   },
   "outputs": [],
   "source": [
    "def stdarize_data(data):\n",
    "    mean = data.describe().loc['mean'].values\n",
    "    std = data.describe().loc['std'].values\n",
    "    stddata = (data - mean)/std\n",
    "    return stddata"
   ]
  },
  {
   "cell_type": "code",
   "execution_count": 21,
   "metadata": {
    "colab": {},
    "colab_type": "code",
    "id": "s50iT6Af-IXB"
   },
   "outputs": [
    {
     "data": {
      "text/html": [
       "<div>\n",
       "<style scoped>\n",
       "    .dataframe tbody tr th:only-of-type {\n",
       "        vertical-align: middle;\n",
       "    }\n",
       "\n",
       "    .dataframe tbody tr th {\n",
       "        vertical-align: top;\n",
       "    }\n",
       "\n",
       "    .dataframe thead th {\n",
       "        text-align: right;\n",
       "    }\n",
       "</style>\n",
       "<table border=\"1\" class=\"dataframe\">\n",
       "  <thead>\n",
       "    <tr style=\"text-align: right;\">\n",
       "      <th></th>\n",
       "      <th>lp</th>\n",
       "      <th>Temp</th>\n",
       "      <th>CaO</th>\n",
       "      <th>MgO</th>\n",
       "      <th>SiO2</th>\n",
       "      <th>Fe_total</th>\n",
       "      <th>MnO</th>\n",
       "      <th>Al2O3</th>\n",
       "      <th>TiO2</th>\n",
       "      <th>V2O5</th>\n",
       "    </tr>\n",
       "  </thead>\n",
       "  <tbody>\n",
       "    <tr>\n",
       "      <th>0</th>\n",
       "      <td>4.736198</td>\n",
       "      <td>0.009329</td>\n",
       "      <td>-0.671236</td>\n",
       "      <td>-0.439794</td>\n",
       "      <td>-2.922204</td>\n",
       "      <td>2.626815</td>\n",
       "      <td>-2.034799</td>\n",
       "      <td>-1.869831</td>\n",
       "      <td>-2.451391</td>\n",
       "      <td>-1.341048</td>\n",
       "    </tr>\n",
       "    <tr>\n",
       "      <th>1</th>\n",
       "      <td>4.436094</td>\n",
       "      <td>0.270513</td>\n",
       "      <td>-0.781774</td>\n",
       "      <td>0.555023</td>\n",
       "      <td>-2.118590</td>\n",
       "      <td>1.352351</td>\n",
       "      <td>-0.943029</td>\n",
       "      <td>1.682121</td>\n",
       "      <td>-1.622410</td>\n",
       "      <td>-0.383367</td>\n",
       "    </tr>\n",
       "    <tr>\n",
       "      <th>2</th>\n",
       "      <td>4.499810</td>\n",
       "      <td>0.792881</td>\n",
       "      <td>0.655222</td>\n",
       "      <td>-0.315442</td>\n",
       "      <td>-1.085373</td>\n",
       "      <td>0.559351</td>\n",
       "      <td>-1.934241</td>\n",
       "      <td>-0.461660</td>\n",
       "      <td>-1.334069</td>\n",
       "      <td>-0.129743</td>\n",
       "    </tr>\n",
       "    <tr>\n",
       "      <th>3</th>\n",
       "      <td>4.140865</td>\n",
       "      <td>1.628670</td>\n",
       "      <td>-0.008007</td>\n",
       "      <td>-0.827481</td>\n",
       "      <td>-0.798368</td>\n",
       "      <td>0.814244</td>\n",
       "      <td>-1.488914</td>\n",
       "      <td>1.408894</td>\n",
       "      <td>-0.901557</td>\n",
       "      <td>0.054895</td>\n",
       "    </tr>\n",
       "    <tr>\n",
       "      <th>4</th>\n",
       "      <td>4.081441</td>\n",
       "      <td>1.158539</td>\n",
       "      <td>1.760603</td>\n",
       "      <td>1.827804</td>\n",
       "      <td>-0.626165</td>\n",
       "      <td>-1.394827</td>\n",
       "      <td>-2.207183</td>\n",
       "      <td>-0.671835</td>\n",
       "      <td>-1.261984</td>\n",
       "      <td>-0.320468</td>\n",
       "    </tr>\n",
       "  </tbody>\n",
       "</table>\n",
       "</div>"
      ],
      "text/plain": [
       "         lp      Temp       CaO       MgO      SiO2  Fe_total       MnO  \\\n",
       "0  4.736198  0.009329 -0.671236 -0.439794 -2.922204  2.626815 -2.034799   \n",
       "1  4.436094  0.270513 -0.781774  0.555023 -2.118590  1.352351 -0.943029   \n",
       "2  4.499810  0.792881  0.655222 -0.315442 -1.085373  0.559351 -1.934241   \n",
       "3  4.140865  1.628670 -0.008007 -0.827481 -0.798368  0.814244 -1.488914   \n",
       "4  4.081441  1.158539  1.760603  1.827804 -0.626165 -1.394827 -2.207183   \n",
       "\n",
       "      Al2O3      TiO2      V2O5  \n",
       "0 -1.869831 -2.451391 -1.341048  \n",
       "1  1.682121 -1.622410 -0.383367  \n",
       "2 -0.461660 -1.334069 -0.129743  \n",
       "3  1.408894 -0.901557  0.054895  \n",
       "4 -0.671835 -1.261984 -0.320468  "
      ]
     },
     "execution_count": 21,
     "metadata": {},
     "output_type": "execute_result"
    }
   ],
   "source": [
    "stddata = stdarize_data(data)\n",
    "stddata.loc[:,'lp'] = data.loc[:,'lp']\n",
    "stddata.head()"
   ]
  },
  {
   "cell_type": "code",
   "execution_count": 22,
   "metadata": {
    "colab": {},
    "colab_type": "code",
    "id": "cEVKjoI53KJp"
   },
   "outputs": [],
   "source": [
    "act_list = ['sigmoid','tanh','softsign','softmax','relu','elu']\n",
    "opt_list = ['adam','RMSprop','Adadelta','SGD']"
   ]
  },
  {
   "cell_type": "code",
   "execution_count": 23,
   "metadata": {
    "colab": {},
    "colab_type": "code",
    "id": "mkdzkz9bz7SY"
   },
   "outputs": [],
   "source": [
    "def baseline_model(act,opt,nums):\n",
    "    model = Sequential()\n",
    "    model.add(Dense(nums, input_dim = 9, activation = act))\n",
    "    model.add(Dense(1, activation = 'linear'))\n",
    "    model.compile(loss='mae', optimizer = opt, metrics=['mse']) \n",
    "    return model\n",
    "\n",
    "def baseline_model_2layer(act,opt,nums):\n",
    "    model = Sequential()\n",
    "    model.add(Dense(nums, input_dim = 9, activation = act))\n",
    "    model.add(Dense(nums, input_dim = 9, activation = act))\n",
    "    model.add(Dense(1, activation = 'linear'))\n",
    "    model.compile(loss='mae', optimizer = opt, metrics=['mse']) \n",
    "    return model"
   ]
  },
  {
   "cell_type": "code",
   "execution_count": 24,
   "metadata": {
    "colab": {},
    "colab_type": "code",
    "id": "_-Q_NDlAA7bt"
   },
   "outputs": [],
   "source": [
    "def generate_model():\n",
    "    model_list = []\n",
    "    for act in act_list:\n",
    "        for opt in opt_list:\n",
    "            model_list.append(baseline_model(act,opt,16))\n",
    "    return model_list"
   ]
  },
  {
   "cell_type": "code",
   "execution_count": 25,
   "metadata": {
    "colab": {},
    "colab_type": "code",
    "id": "CYDtO_WeBb6Q"
   },
   "outputs": [],
   "source": [
    "modelList = generate_model()"
   ]
  },
  {
   "cell_type": "code",
   "execution_count": 26,
   "metadata": {
    "colab": {},
    "colab_type": "code",
    "id": "XmALal98M-9R"
   },
   "outputs": [],
   "source": [
    "def cv(df,model):\n",
    "    kf = KFold(n_splits = 5, random_state = 10, shuffle = False)\n",
    "    splits = kf.split(df)\n",
    "    comparision_list = []\n",
    "    for train_index,test_index in splits:\n",
    "        X_train = df.loc[train_index,'Temp':'V2O5'].values\n",
    "        X_test = df.loc[test_index,'Temp':'V2O5'].values\n",
    "        y_train = df.loc[train_index,'lp'].values\n",
    "        y_test = df.loc[test_index,'lp'].values\n",
    "        model.fit(X_train, y_train, epochs = 150, batch_size = 20, validation_data = (X_test,y_test),verbose = 0)\n",
    "        prediction = model.predict(X_test).reshape(len(X_test),)\n",
    "        comparision = {'prediction':prediction,'truth':y_test}\n",
    "        comparision_list.append(comparision)\n",
    "    return comparision_list"
   ]
  },
  {
   "cell_type": "code",
   "execution_count": 27,
   "metadata": {
    "colab": {},
    "colab_type": "code",
    "id": "Q3RQCPLQBvz9"
   },
   "outputs": [],
   "source": [
    "def modelsearch(modelList,df):\n",
    "    result_list = [] \n",
    "    for model in modelList:\n",
    "        result = cv(df,model)\n",
    "        result_list.append(result)\n",
    "    return result_list"
   ]
  },
  {
   "cell_type": "code",
   "execution_count": 29,
   "metadata": {},
   "outputs": [],
   "source": [
    "allresult = modelsearch(modelList, stddata)"
   ]
  },
  {
   "cell_type": "code",
   "execution_count": 30,
   "metadata": {},
   "outputs": [],
   "source": [
    "def get_result(data):\n",
    "    R_list = []\n",
    "    RMSE_list = []\n",
    "    for model_index in range(len(data)):\n",
    "        rmse_list = []\n",
    "        r_list = []\n",
    "        for k in range(5):\n",
    "            pre = data[model_index][k]['prediction']\n",
    "            truth = data[model_index][k]['truth']\n",
    "            rmse = np.sqrt(sum((pre - truth)**2)/len(pre))\n",
    "            r = pearsonr(pre,truth)[0]\n",
    "            rmse_list.append(rmse)\n",
    "            r_list.append(r)\n",
    "        R_list.append(np.mean(r_list))\n",
    "        RMSE_list.append(np.mean(rmse_list))\n",
    "    return R_list, RMSE_list"
   ]
  },
  {
   "cell_type": "code",
   "execution_count": 31,
   "metadata": {},
   "outputs": [],
   "source": [
    "def get_namelist():\n",
    "    namelist = []\n",
    "    for act in act_list:\n",
    "        for opt in opt_list:\n",
    "            namelist.append(act +'-'+ opt)\n",
    "    return namelist"
   ]
  },
  {
   "cell_type": "code",
   "execution_count": 32,
   "metadata": {},
   "outputs": [
    {
     "data": {
      "text/plain": [
       "['sigmoid-adam',\n",
       " 'sigmoid-RMSprop',\n",
       " 'sigmoid-Adadelta',\n",
       " 'sigmoid-SGD',\n",
       " 'tanh-adam']"
      ]
     },
     "execution_count": 32,
     "metadata": {},
     "output_type": "execute_result"
    }
   ],
   "source": [
    "namelist = get_namelist()\n",
    "namelist[:5]"
   ]
  },
  {
   "cell_type": "code",
   "execution_count": 38,
   "metadata": {},
   "outputs": [],
   "source": [
    "all_final = get_result(allresult)"
   ]
  },
  {
   "cell_type": "code",
   "execution_count": 43,
   "metadata": {},
   "outputs": [],
   "source": [
    "def plot_result(data):\n",
    "    plt.figure(figsize = (9,9))\n",
    "    p1 = plt.barh(y = range(24), width = data[0], height = 0.35, label = 'R')\n",
    "    p2 = plt.barh(y = range(24), width = [0.1/i for i in data[1]], height = 0.35, label = '0.3/RMSE',left = data[0])\n",
    "    #plt.xlim(0,0.95,0.1)\n",
    "    plt.yticks(range(24),(namelist))\n",
    "    plt.ylabel('model_name',fontsize = 14)\n",
    "    plt.legend()\n",
    "    plt.show()"
   ]
  },
  {
   "cell_type": "code",
   "execution_count": 45,
   "metadata": {},
   "outputs": [
    {
     "data": {
      "text/plain": [
       "([0.5419487574179815,\n",
       "  0.5459415910922546,\n",
       "  0.5434439923086737,\n",
       "  0.5471639119517505,\n",
       "  0.5390854909686766,\n",
       "  0.5383071718321176,\n",
       "  0.5382245516264538,\n",
       "  0.5429675393774266,\n",
       "  0.5350389030243565,\n",
       "  0.537429010551022,\n",
       "  0.5399834669433786,\n",
       "  0.5436871693187507,\n",
       "  0.5382572563041632,\n",
       "  0.5444876394624725,\n",
       "  0.5408384175443677,\n",
       "  0.54496717420558,\n",
       "  0.538724625302892,\n",
       "  0.5285048270149953,\n",
       "  0.5325718360022312,\n",
       "  0.5260535991823355,\n",
       "  0.5380373230947955,\n",
       "  0.5275668689532849,\n",
       "  0.5387047134576814,\n",
       "  0.5397518023638089],\n",
       " [0.25852792090671245,\n",
       "  0.25672070573606864,\n",
       "  0.26120496413979094,\n",
       "  0.25647634072912484,\n",
       "  0.2582500609400841,\n",
       "  0.2599448112627547,\n",
       "  0.258639205061929,\n",
       "  0.26209860781925715,\n",
       "  0.25939236043052527,\n",
       "  0.26057367852190466,\n",
       "  0.2578780117836829,\n",
       "  0.25800640475579656,\n",
       "  0.259451650701386,\n",
       "  0.25859979483360784,\n",
       "  0.25856625907494685,\n",
       "  0.2582184568495666,\n",
       "  0.25848909662848474,\n",
       "  0.2622272181478034,\n",
       "  0.2613150421340538,\n",
       "  0.26429741577071475,\n",
       "  0.25990970577560446,\n",
       "  0.26343123654620204,\n",
       "  0.2619175236582032,\n",
       "  0.2583510799714691])"
      ]
     },
     "execution_count": 45,
     "metadata": {},
     "output_type": "execute_result"
    }
   ],
   "source": [
    "all_final"
   ]
  },
  {
   "cell_type": "code",
   "execution_count": 44,
   "metadata": {},
   "outputs": [
    {
     "data": {
      "image/png": "[encoded data removed]",
      "text/plain": [
       "<Figure size 648x648 with 1 Axes>"
      ]
     },
     "metadata": {
      "needs_background": "light"
     },
     "output_type": "display_data"
    }
   ],
   "source": [
    "plot_result(all_final)"
   ]
  },
  {
   "cell_type": "code",
   "execution_count": 52,
   "metadata": {},
   "outputs": [],
   "source": [
    "tru = allresult[1][0]['truth']\n",
    "pre = allresult[1][0]['prediction']"
   ]
  },
  {
   "cell_type": "code",
   "execution_count": 270,
   "metadata": {},
   "outputs": [],
   "source": [
    "def cv_result(data):\n",
    "    rmse_list = []\n",
    "    r_list = []\n",
    "    for k in range(5):\n",
    "        pre = data[k]['prediction']\n",
    "        truth = data[k]['truth']\n",
    "        rmse = np.sqrt(sum((pre - truth)**2)/len(pre))\n",
    "        r = pearsonr(pre,truth)[0]\n",
    "        rmse_list.append(rmse)\n",
    "        r_list.append(r)\n",
    "    return np.mean(rmse_list), np.mean(r_list)"
   ]
  },
  {
   "cell_type": "code",
   "execution_count": 317,
   "metadata": {},
   "outputs": [
    {
     "data": {
      "text/plain": [
       "(0.8443735002957752, 0.5408520997419529)"
      ]
     },
     "execution_count": 317,
     "metadata": {},
     "output_type": "execute_result"
    }
   ],
   "source": [
    "cv_result(benchmark)"
   ]
  },
  {
   "cell_type": "code",
   "execution_count": 316,
   "metadata": {},
   "outputs": [
    {
     "data": {
      "text/plain": [
       "(1.71648575090252, 0.23005407621299012)"
      ]
     },
     "execution_count": 316,
     "metadata": {},
     "output_type": "execute_result"
    }
   ],
   "source": [
    "cv_result(orginal)"
   ]
  },
  {
   "cell_type": "code",
   "execution_count": 401,
   "metadata": {},
   "outputs": [],
   "source": [
    "model.fit(X_train,y_train, epochs = 150, batch_size = 20, verbose = 0, validation_data = (X_test,y_test))\n",
    "pre2 = model.predict(X_test)"
   ]
  },
  {
   "cell_type": "code",
   "execution_count": 53,
   "metadata": {},
   "outputs": [
    {
     "data": {
      "text/plain": [
       "[<matplotlib.lines.Line2D at 0x1a425a7b38>]"
      ]
     },
     "execution_count": 53,
     "metadata": {},
     "output_type": "execute_result"
    },
    {
     "data": {
      "image/png": "[encoded data removed]",
      "text/plain": [
       "<Figure size 432x288 with 1 Axes>"
      ]
     },
     "metadata": {
      "needs_background": "light"
     },
     "output_type": "display_data"
    }
   ],
   "source": [
    "plt.scatter(x = tru, y = pre)\n",
    "plt.ylim(3,5.5)\n",
    "\n",
    "plt.xlim(3,5.5)\n",
    "\n",
    "plt.plot([3,5.5],[3,5.5],color = 'red')\n"
   ]
  },
  {
   "cell_type": "code",
   "execution_count": 397,
   "metadata": {},
   "outputs": [
    {
     "data": {
      "text/plain": [
       "[<matplotlib.lines.Line2D at 0x1a3fc6b5f8>]"
      ]
     },
     "execution_count": 397,
     "metadata": {},
     "output_type": "execute_result"
    },
    {
     "data": {
      "image/png": "[encoded data removed]",
      "text/plain": [
       "<Figure size 432x288 with 1 Axes>"
      ]
     },
     "metadata": {
      "needs_background": "light"
     },
     "output_type": "display_data"
    }
   ],
   "source": [
    "plt.scatter(x = y_test, y = pre2)\n",
    "plt.ylim(-4,3)\n",
    "plt.xlim(-4,3)\n",
    "plt.plot([-4,3],[-4,3],color = 'red')"
   ]
  },
  {
   "cell_type": "code",
   "execution_count": 408,
   "metadata": {},
   "outputs": [
    {
     "data": {
      "text/plain": [
       "0.20653823"
      ]
     },
     "execution_count": 408,
     "metadata": {},
     "output_type": "execute_result"
    }
   ],
   "source": []
  },
  {
   "cell_type": "code",
   "execution_count": 409,
   "metadata": {},
   "outputs": [
    {
     "data": {
      "text/plain": [
       "1.023762501261837"
      ]
     },
     "execution_count": 409,
     "metadata": {},
     "output_type": "execute_result"
    }
   ],
   "source": [
    "pre22 =( pre2 - pre2.mean())/pre2.std()\n",
    "y2 = (y_test - y_test.mean())/y_test.std()\n",
    "np.sqrt((sum((pre22.reshape(len(y_test),) - y2)**2))/len(y_test))"
   ]
  },
  {
   "cell_type": "code",
   "execution_count": 412,
   "metadata": {},
   "outputs": [
    {
     "data": {
      "text/plain": [
       "(array([0.47529801]), array([7.03002117e-24]))"
      ]
     },
     "execution_count": 412,
     "metadata": {},
     "output_type": "execute_result"
    }
   ],
   "source": [
    "pearsonr(pre22,y2.values.reshape(-1,1))"
   ]
  },
  {
   "cell_type": "code",
   "execution_count": 372,
   "metadata": {},
   "outputs": [
    {
     "data": {
      "text/plain": [
       "0.9078047181806805"
      ]
     },
     "execution_count": 372,
     "metadata": {},
     "output_type": "execute_result"
    }
   ],
   "source": [
    "np.sqrt((sum((pre.reshape(len(y_test),) - y_test)**2))/len(y_test))"
   ]
  },
  {
   "cell_type": "code",
   "execution_count": 373,
   "metadata": {},
   "outputs": [
    {
     "data": {
      "text/plain": [
       "(array([0.49570273]), array([3.92512682e-26]))"
      ]
     },
     "execution_count": 373,
     "metadata": {},
     "output_type": "execute_result"
    }
   ],
   "source": [
    "pearsonr(pre,y_test.values.reshape(-1,1))"
   ]
  },
  {
   "cell_type": "code",
   "execution_count": null,
   "metadata": {},
   "outputs": [],
   "source": []
  },
  {
   "cell_type": "code",
   "execution_count": null,
   "metadata": {},
   "outputs": [],
   "source": [
    "plt.hist(stddata.loc[''])"
   ]
  },
  {
   "cell_type": "code",
   "execution_count": 457,
   "metadata": {},
   "outputs": [],
   "source": [
    "error = M1_result[0][0]['prediction'] - M1_result[0][0]['truth']"
   ]
  },
  {
   "cell_type": "code",
   "execution_count": 470,
   "metadata": {},
   "outputs": [
    {
     "data": {
      "text/plain": [
       "[1, 2, 3]"
      ]
     },
     "execution_count": 470,
     "metadata": {},
     "output_type": "execute_result"
    }
   ],
   "source": [
    "[1,2,3] + []"
   ]
  },
  {
   "cell_type": "code",
   "execution_count": null,
   "metadata": {},
   "outputs": [],
   "source": []
  },
  {
   "cell_type": "markdown",
   "metadata": {},
   "source": [
    "### error histgram"
   ]
  },
  {
   "cell_type": "code",
   "execution_count": 471,
   "metadata": {},
   "outputs": [],
   "source": [
    "def get_error(data):\n",
    "    error = []\n",
    "    for k in range(5):\n",
    "        temp = []\n",
    "        temp = data[k]['prediction'] - data[k]['truth']\n",
    "        temp = temp.tolist()\n",
    "        error += temp\n",
    "    return error"
   ]
  },
  {
   "cell_type": "code",
   "execution_count": 477,
   "metadata": {},
   "outputs": [],
   "source": [
    "error = (get_error(M1_result[6])+get_error(M2_result[-11])+get_error(M3_result[12])+get_error(M4_result[-10])\n",
    "        +get_error(M5_result[7])+get_error(M6_result[-2])+get_error(M7_result[-7])+get_error(M8_result[9]))"
   ]
  },
  {
   "cell_type": "code",
   "execution_count": 484,
   "metadata": {},
   "outputs": [
    {
     "data": {
      "text/plain": [
       "(array([2.000e+00, 0.000e+00, 4.000e+00, 6.000e+00, 1.400e+01, 2.200e+01,\n",
       "        4.600e+01, 1.040e+02, 1.420e+02, 2.460e+02, 4.720e+02, 9.060e+02,\n",
       "        1.476e+03, 1.921e+03, 2.080e+03, 1.856e+03, 1.496e+03, 1.040e+03,\n",
       "        6.960e+02, 4.450e+02, 2.970e+02, 1.950e+02, 1.480e+02, 9.400e+01,\n",
       "        5.500e+01, 4.100e+01, 2.700e+01, 8.000e+00, 3.000e+00, 4.000e+00]),\n",
       " array([-4.        , -3.73333333, -3.46666667, -3.2       , -2.93333333,\n",
       "        -2.66666667, -2.4       , -2.13333333, -1.86666667, -1.6       ,\n",
       "        -1.33333333, -1.06666667, -0.8       , -0.53333333, -0.26666667,\n",
       "         0.        ,  0.26666667,  0.53333333,  0.8       ,  1.06666667,\n",
       "         1.33333333,  1.6       ,  1.86666667,  2.13333333,  2.4       ,\n",
       "         2.66666667,  2.93333333,  3.2       ,  3.46666667,  3.73333333,\n",
       "         4.        ]),\n",
       " <a list of 30 Patch objects>)"
      ]
     },
     "execution_count": 484,
     "metadata": {},
     "output_type": "execute_result"
    },
    {
     "data": {
      "image/png": "[encoded data removed]",
      "text/plain": [
       "<Figure size 432x288 with 1 Axes>"
      ]
     },
     "metadata": {
      "needs_background": "light"
     },
     "output_type": "display_data"
    }
   ],
   "source": [
    "plt.hist(error,bins = 30 , range = (-4,4))"
   ]
  },
  {
   "cell_type": "code",
   "execution_count": null,
   "metadata": {},
   "outputs": [],
   "source": []
  }
 ],
 "metadata": {
  "accelerator": "GPU",
  "colab": {
   "collapsed_sections": [],
   "include_colab_link": true,
   "name": "Test regression.ipynb",
   "provenance": [],
   "toc_visible": true,
   "version": "0.3.2"
  },
  "kernelspec": {
   "display_name": "Python 3",
   "language": "python",
   "name": "python3"
  },
  "language_info": {
   "codemirror_mode": {
    "name": "ipython",
    "version": 3
   },
   "file_extension": ".py",
   "mimetype": "text/x-python",
   "name": "python",
   "nbconvert_exporter": "python",
   "pygments_lexer": "ipython3",
   "version": "3.7.3"
  }
 },
 "nbformat": 4,
 "nbformat_minor": 1
}
